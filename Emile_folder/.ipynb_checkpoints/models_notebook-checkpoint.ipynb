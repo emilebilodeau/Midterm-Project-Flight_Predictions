{
 "cells": [
  {
   "cell_type": "code",
   "execution_count": 1,
   "metadata": {},
   "outputs": [],
   "source": [
    "import pandas as pd\n",
    "import numpy as np\n",
    "import matplotlib.pyplot as plt\n",
    "import seaborn as sns\n",
    "pd.set_option('display.max_columns', None)"
   ]
  },
  {
   "cell_type": "code",
   "execution_count": 2,
   "metadata": {},
   "outputs": [],
   "source": [
    "df = pd.read_csv('table_for_model.csv')"
   ]
  },
  {
   "cell_type": "code",
   "execution_count": 5,
   "metadata": {},
   "outputs": [
    {
     "data": {
      "text/html": [
       "<div>\n",
       "<style scoped>\n",
       "    .dataframe tbody tr th:only-of-type {\n",
       "        vertical-align: middle;\n",
       "    }\n",
       "\n",
       "    .dataframe tbody tr th {\n",
       "        vertical-align: top;\n",
       "    }\n",
       "\n",
       "    .dataframe thead th {\n",
       "        text-align: right;\n",
       "    }\n",
       "</style>\n",
       "<table border=\"1\" class=\"dataframe\">\n",
       "  <thead>\n",
       "    <tr style=\"text-align: right;\">\n",
       "      <th></th>\n",
       "      <th>origin_city_name</th>\n",
       "      <th>arr_delay</th>\n",
       "      <th>month</th>\n",
       "      <th>carrier_name</th>\n",
       "      <th>avg_daily_delay_for_month</th>\n",
       "      <th>sum_delay_for_month</th>\n",
       "      <th>monthly_passenger_carrier</th>\n",
       "      <th>monthly_passenger_airport</th>\n",
       "    </tr>\n",
       "  </thead>\n",
       "  <tbody>\n",
       "    <tr>\n",
       "      <th>0</th>\n",
       "      <td>Chicago, IL</td>\n",
       "      <td>36.0</td>\n",
       "      <td>1</td>\n",
       "      <td>Southwest Airlines</td>\n",
       "      <td>0.659208</td>\n",
       "      <td>383.0</td>\n",
       "      <td>345355.0</td>\n",
       "      <td>158843.000000</td>\n",
       "    </tr>\n",
       "    <tr>\n",
       "      <th>1</th>\n",
       "      <td>Chicago, IL</td>\n",
       "      <td>41.0</td>\n",
       "      <td>1</td>\n",
       "      <td>Southwest Airlines</td>\n",
       "      <td>0.659208</td>\n",
       "      <td>383.0</td>\n",
       "      <td>345355.0</td>\n",
       "      <td>158843.000000</td>\n",
       "    </tr>\n",
       "    <tr>\n",
       "      <th>2</th>\n",
       "      <td>Chicago, IL</td>\n",
       "      <td>9.0</td>\n",
       "      <td>1</td>\n",
       "      <td>Southwest Airlines</td>\n",
       "      <td>0.659208</td>\n",
       "      <td>383.0</td>\n",
       "      <td>345355.0</td>\n",
       "      <td>158843.000000</td>\n",
       "    </tr>\n",
       "    <tr>\n",
       "      <th>3</th>\n",
       "      <td>Chicago, IL</td>\n",
       "      <td>-5.0</td>\n",
       "      <td>1</td>\n",
       "      <td>Southwest Airlines</td>\n",
       "      <td>0.659208</td>\n",
       "      <td>383.0</td>\n",
       "      <td>345355.0</td>\n",
       "      <td>158843.000000</td>\n",
       "    </tr>\n",
       "    <tr>\n",
       "      <th>4</th>\n",
       "      <td>Chicago, IL</td>\n",
       "      <td>14.0</td>\n",
       "      <td>1</td>\n",
       "      <td>Southwest Airlines</td>\n",
       "      <td>0.659208</td>\n",
       "      <td>383.0</td>\n",
       "      <td>345355.0</td>\n",
       "      <td>158843.000000</td>\n",
       "    </tr>\n",
       "    <tr>\n",
       "      <th>...</th>\n",
       "      <td>...</td>\n",
       "      <td>...</td>\n",
       "      <td>...</td>\n",
       "      <td>...</td>\n",
       "      <td>...</td>\n",
       "      <td>...</td>\n",
       "      <td>...</td>\n",
       "      <td>...</td>\n",
       "    </tr>\n",
       "    <tr>\n",
       "      <th>30371</th>\n",
       "      <td>Salisbury, MD</td>\n",
       "      <td>-7.0</td>\n",
       "      <td>7</td>\n",
       "      <td>Piedmont Airlines</td>\n",
       "      <td>-4.250000</td>\n",
       "      <td>-119.0</td>\n",
       "      <td>908.0</td>\n",
       "      <td>114726.459319</td>\n",
       "    </tr>\n",
       "    <tr>\n",
       "      <th>30372</th>\n",
       "      <td>Salisbury, MD</td>\n",
       "      <td>8.0</td>\n",
       "      <td>7</td>\n",
       "      <td>Piedmont Airlines</td>\n",
       "      <td>-4.250000</td>\n",
       "      <td>-119.0</td>\n",
       "      <td>908.0</td>\n",
       "      <td>114726.459319</td>\n",
       "    </tr>\n",
       "    <tr>\n",
       "      <th>30373</th>\n",
       "      <td>Lynchburg, VA</td>\n",
       "      <td>81.0</td>\n",
       "      <td>7</td>\n",
       "      <td>Piedmont Airlines</td>\n",
       "      <td>-4.250000</td>\n",
       "      <td>-119.0</td>\n",
       "      <td>908.0</td>\n",
       "      <td>114726.459319</td>\n",
       "    </tr>\n",
       "    <tr>\n",
       "      <th>30374</th>\n",
       "      <td>Pullman, WA</td>\n",
       "      <td>3.0</td>\n",
       "      <td>7</td>\n",
       "      <td>Horizon Airlines</td>\n",
       "      <td>-7.689655</td>\n",
       "      <td>-223.0</td>\n",
       "      <td>2055.0</td>\n",
       "      <td>114726.459319</td>\n",
       "    </tr>\n",
       "    <tr>\n",
       "      <th>30375</th>\n",
       "      <td>Wenatchee, WA</td>\n",
       "      <td>9.0</td>\n",
       "      <td>7</td>\n",
       "      <td>Horizon Airlines</td>\n",
       "      <td>-7.689655</td>\n",
       "      <td>-223.0</td>\n",
       "      <td>2055.0</td>\n",
       "      <td>0.000000</td>\n",
       "    </tr>\n",
       "  </tbody>\n",
       "</table>\n",
       "<p>30376 rows × 8 columns</p>\n",
       "</div>"
      ],
      "text/plain": [
       "      origin_city_name  arr_delay  month        carrier_name  \\\n",
       "0          Chicago, IL       36.0      1  Southwest Airlines   \n",
       "1          Chicago, IL       41.0      1  Southwest Airlines   \n",
       "2          Chicago, IL        9.0      1  Southwest Airlines   \n",
       "3          Chicago, IL       -5.0      1  Southwest Airlines   \n",
       "4          Chicago, IL       14.0      1  Southwest Airlines   \n",
       "...                ...        ...    ...                 ...   \n",
       "30371    Salisbury, MD       -7.0      7   Piedmont Airlines   \n",
       "30372    Salisbury, MD        8.0      7   Piedmont Airlines   \n",
       "30373    Lynchburg, VA       81.0      7   Piedmont Airlines   \n",
       "30374      Pullman, WA        3.0      7    Horizon Airlines   \n",
       "30375    Wenatchee, WA        9.0      7    Horizon Airlines   \n",
       "\n",
       "       avg_daily_delay_for_month  sum_delay_for_month  \\\n",
       "0                       0.659208                383.0   \n",
       "1                       0.659208                383.0   \n",
       "2                       0.659208                383.0   \n",
       "3                       0.659208                383.0   \n",
       "4                       0.659208                383.0   \n",
       "...                          ...                  ...   \n",
       "30371                  -4.250000               -119.0   \n",
       "30372                  -4.250000               -119.0   \n",
       "30373                  -4.250000               -119.0   \n",
       "30374                  -7.689655               -223.0   \n",
       "30375                  -7.689655               -223.0   \n",
       "\n",
       "       monthly_passenger_carrier  monthly_passenger_airport  \n",
       "0                       345355.0              158843.000000  \n",
       "1                       345355.0              158843.000000  \n",
       "2                       345355.0              158843.000000  \n",
       "3                       345355.0              158843.000000  \n",
       "4                       345355.0              158843.000000  \n",
       "...                          ...                        ...  \n",
       "30371                      908.0              114726.459319  \n",
       "30372                      908.0              114726.459319  \n",
       "30373                      908.0              114726.459319  \n",
       "30374                     2055.0              114726.459319  \n",
       "30375                     2055.0                   0.000000  \n",
       "\n",
       "[30376 rows x 8 columns]"
      ]
     },
     "execution_count": 5,
     "metadata": {},
     "output_type": "execute_result"
    }
   ],
   "source": [
    "df"
   ]
  },
  {
   "cell_type": "code",
   "execution_count": 6,
   "metadata": {},
   "outputs": [],
   "source": [
    "X_num = df.loc[:, ['month', 'avg_daily_delay_for_month', 'sum_delay_for_month',\n",
    "              'monthly_passenger_carrier', 'monthly_passenger_airport']]\n",
    "y = df.arr_delay"
   ]
  },
  {
   "cell_type": "code",
   "execution_count": 8,
   "metadata": {},
   "outputs": [
    {
     "name": "stdout",
     "output_type": "stream",
     "text": [
      "(30376, 5)\n",
      "(30376,)\n"
     ]
    }
   ],
   "source": [
    "print(X_num.shape)\n",
    "print(y.shape)"
   ]
  },
  {
   "cell_type": "code",
   "execution_count": 9,
   "metadata": {},
   "outputs": [],
   "source": [
    "from sklearn.model_selection import train_test_split"
   ]
  },
  {
   "cell_type": "code",
   "execution_count": 10,
   "metadata": {},
   "outputs": [],
   "source": [
    "X_train, X_test, y_train, y_test = train_test_split(X_num, y, test_size = 0.3, random_state=5)"
   ]
  },
  {
   "cell_type": "code",
   "execution_count": 11,
   "metadata": {},
   "outputs": [],
   "source": [
    "from sklearn.preprocessing import StandardScaler"
   ]
  },
  {
   "cell_type": "code",
   "execution_count": 12,
   "metadata": {},
   "outputs": [],
   "source": [
    "scaler = StandardScaler()\n",
    "scaler.fit(X_train)\n",
    "X_train_scaled = scaler.transform(X_train)\n",
    "X_test_scaled = scaler.transform(X_test)"
   ]
  },
  {
   "cell_type": "markdown",
   "metadata": {},
   "source": [
    "# XGBoost"
   ]
  },
  {
   "cell_type": "code",
   "execution_count": 13,
   "metadata": {},
   "outputs": [],
   "source": [
    "import xgboost as xgb"
   ]
  },
  {
   "cell_type": "code",
   "execution_count": 16,
   "metadata": {},
   "outputs": [],
   "source": [
    "xg_reg = xgb.XGBRegressor(objective='reg:squarederror', colsample_by_tree=0.3,\n",
    "                         learning_rate=0.1, max_depth=5, alpha=10,\n",
    "                         n_estimators=10)"
   ]
  },
  {
   "cell_type": "code",
   "execution_count": 17,
   "metadata": {},
   "outputs": [
    {
     "name": "stdout",
     "output_type": "stream",
     "text": [
      "[20:46:01] WARNING: ../src/learner.cc:541: \n",
      "Parameters: { colsample_by_tree } might not be used.\n",
      "\n",
      "  This may not be accurate due to some parameters are only used in language bindings but\n",
      "  passed down to XGBoost core.  Or some parameters are not used but slip through this\n",
      "  verification. Please open an issue if you find above cases.\n",
      "\n",
      "\n"
     ]
    }
   ],
   "source": [
    "xg_reg.fit(X_train_scaled, y_train)\n",
    "\n",
    "preds = xg_reg.predict(X_test_scaled)"
   ]
  },
  {
   "cell_type": "code",
   "execution_count": 19,
   "metadata": {},
   "outputs": [
    {
     "data": {
      "text/plain": [
       "13962      7.0\n",
       "26642    -11.0\n",
       "3727     -27.0\n",
       "15808    199.0\n",
       "13379    -10.0\n",
       "         ...  \n",
       "7777     -21.0\n",
       "19220      2.0\n",
       "15778    -20.0\n",
       "19150    112.0\n",
       "20380     -9.0\n",
       "Name: arr_delay, Length: 9113, dtype: float64"
      ]
     },
     "execution_count": 19,
     "metadata": {},
     "output_type": "execute_result"
    }
   ],
   "source": [
    "y_test"
   ]
  },
  {
   "cell_type": "code",
   "execution_count": 18,
   "metadata": {},
   "outputs": [
    {
     "data": {
      "text/plain": [
       "array([ 8.971254  ,  0.21211979,  7.497592  , ..., -0.5841128 ,\n",
       "       20.863867  , -1.2256587 ], dtype=float32)"
      ]
     },
     "execution_count": 18,
     "metadata": {},
     "output_type": "execute_result"
    }
   ],
   "source": [
    "preds"
   ]
  },
  {
   "cell_type": "code",
   "execution_count": 20,
   "metadata": {},
   "outputs": [],
   "source": [
    "from sklearn.metrics import mean_squared_error"
   ]
  },
  {
   "cell_type": "code",
   "execution_count": 22,
   "metadata": {},
   "outputs": [
    {
     "name": "stdout",
     "output_type": "stream",
     "text": [
      "MSE: 2274.558173\n"
     ]
    }
   ],
   "source": [
    "mse = mean_squared_error(y_test, preds)\n",
    "print('MSE: %f' %(mse))"
   ]
  },
  {
   "cell_type": "code",
   "execution_count": 33,
   "metadata": {},
   "outputs": [
    {
     "name": "stdout",
     "output_type": "stream",
     "text": [
      "RMSE: 47.692328\n"
     ]
    }
   ],
   "source": [
    "rmse = np.sqrt(mean_squared_error(y_test, preds))\n",
    "print('RMSE: %f' %(rmse))"
   ]
  },
  {
   "cell_type": "code",
   "execution_count": 23,
   "metadata": {},
   "outputs": [],
   "source": [
    "from sklearn.metrics import r2_score"
   ]
  },
  {
   "cell_type": "code",
   "execution_count": 25,
   "metadata": {},
   "outputs": [
    {
     "name": "stdout",
     "output_type": "stream",
     "text": [
      "0.02109804548747818\n"
     ]
    }
   ],
   "source": [
    "r2_score_xgb = r2_score(y_test, preds)\n",
    "print(r2_score_xgb)"
   ]
  },
  {
   "cell_type": "markdown",
   "metadata": {},
   "source": [
    "# Trying gridsearch"
   ]
  },
  {
   "cell_type": "code",
   "execution_count": 37,
   "metadata": {},
   "outputs": [],
   "source": [
    "from sklearn.model_selection import GridSearchCV"
   ]
  },
  {
   "cell_type": "code",
   "execution_count": 41,
   "metadata": {},
   "outputs": [],
   "source": [
    "param_grid = {\n",
    "    'objective': ['reg:squarederror'],\n",
    "    'colsample_by_tree': [0.3, 0.4, 0.5, 0.6, 0.7],\n",
    "    'learning_rate': [0.001, 0.01, 0.1, 0.25, 0.5, 0.75, 1],\n",
    "    'max_depth': [3, 4, 5, 6, 7, 10, 15],\n",
    "    'alpha': [1, 2, 3, 5, 7, 10],\n",
    "    'n_estimators': [5, 10, 15, 20, 30, 50]\n",
    "}\n",
    "\n",
    "xg_reg_op = xgb.XGBRegressor()"
   ]
  },
  {
   "cell_type": "code",
   "execution_count": 42,
   "metadata": {},
   "outputs": [],
   "source": [
    "grid = GridSearchCV(estimator=xg_reg_op, param_grid=param_grid, scoring='r2', cv=10, verbose=1, n_jobs=-1)"
   ]
  },
  {
   "cell_type": "code",
   "execution_count": 43,
   "metadata": {},
   "outputs": [
    {
     "name": "stdout",
     "output_type": "stream",
     "text": [
      "Fitting 10 folds for each of 8820 candidates, totalling 88200 fits\n"
     ]
    },
    {
     "name": "stderr",
     "output_type": "stream",
     "text": [
      "[Parallel(n_jobs=-1)]: Using backend LokyBackend with 8 concurrent workers.\n",
      "[Parallel(n_jobs=-1)]: Done  34 tasks      | elapsed:    5.2s\n",
      "[Parallel(n_jobs=-1)]: Done 184 tasks      | elapsed:   33.4s\n",
      "[Parallel(n_jobs=-1)]: Done 434 tasks      | elapsed:  2.2min\n",
      "[Parallel(n_jobs=-1)]: Done 784 tasks      | elapsed:  3.5min\n",
      "[Parallel(n_jobs=-1)]: Done 1234 tasks      | elapsed:  5.8min\n",
      "[Parallel(n_jobs=-1)]: Done 1784 tasks      | elapsed:  8.2min\n",
      "[Parallel(n_jobs=-1)]: Done 2434 tasks      | elapsed: 10.9min\n",
      "[Parallel(n_jobs=-1)]: Done 3184 tasks      | elapsed: 14.2min\n",
      "[Parallel(n_jobs=-1)]: Done 4034 tasks      | elapsed: 18.0min\n",
      "[Parallel(n_jobs=-1)]: Done 4984 tasks      | elapsed: 22.5min\n",
      "[Parallel(n_jobs=-1)]: Done 6034 tasks      | elapsed: 27.2min\n",
      "[Parallel(n_jobs=-1)]: Done 7184 tasks      | elapsed: 33.2min\n",
      "[Parallel(n_jobs=-1)]: Done 8434 tasks      | elapsed: 38.6min\n",
      "[Parallel(n_jobs=-1)]: Done 9784 tasks      | elapsed: 44.7min\n",
      "[Parallel(n_jobs=-1)]: Done 11234 tasks      | elapsed: 51.0min\n",
      "[Parallel(n_jobs=-1)]: Done 12784 tasks      | elapsed: 58.0min\n",
      "[Parallel(n_jobs=-1)]: Done 14434 tasks      | elapsed: 64.8min\n",
      "[Parallel(n_jobs=-1)]: Done 16184 tasks      | elapsed: 72.3min\n",
      "[Parallel(n_jobs=-1)]: Done 18034 tasks      | elapsed: 80.1min\n",
      "[Parallel(n_jobs=-1)]: Done 19984 tasks      | elapsed: 88.2min\n",
      "[Parallel(n_jobs=-1)]: Done 22034 tasks      | elapsed: 98.3min\n",
      "[Parallel(n_jobs=-1)]: Done 24184 tasks      | elapsed: 107.4min\n",
      "[Parallel(n_jobs=-1)]: Done 26434 tasks      | elapsed: 117.0min\n",
      "[Parallel(n_jobs=-1)]: Done 28784 tasks      | elapsed: 126.8min\n",
      "[Parallel(n_jobs=-1)]: Done 31234 tasks      | elapsed: 137.2min\n",
      "[Parallel(n_jobs=-1)]: Done 33784 tasks      | elapsed: 147.9min\n",
      "[Parallel(n_jobs=-1)]: Done 36434 tasks      | elapsed: 158.8min\n",
      "[Parallel(n_jobs=-1)]: Done 39184 tasks      | elapsed: 170.5min\n",
      "[Parallel(n_jobs=-1)]: Done 42034 tasks      | elapsed: 182.6min\n",
      "[Parallel(n_jobs=-1)]: Done 44984 tasks      | elapsed: 195.0min\n",
      "[Parallel(n_jobs=-1)]: Done 48034 tasks      | elapsed: 207.5min\n",
      "[Parallel(n_jobs=-1)]: Done 51184 tasks      | elapsed: 220.6min\n",
      "[Parallel(n_jobs=-1)]: Done 54434 tasks      | elapsed: 234.1min\n",
      "[Parallel(n_jobs=-1)]: Done 57784 tasks      | elapsed: 248.1min\n",
      "[Parallel(n_jobs=-1)]: Done 61234 tasks      | elapsed: 262.5min\n",
      "[Parallel(n_jobs=-1)]: Done 64784 tasks      | elapsed: 277.4min\n",
      "[Parallel(n_jobs=-1)]: Done 68434 tasks      | elapsed: 292.8min\n",
      "[Parallel(n_jobs=-1)]: Done 72184 tasks      | elapsed: 308.4min\n",
      "[Parallel(n_jobs=-1)]: Done 76034 tasks      | elapsed: 324.6min\n",
      "[Parallel(n_jobs=-1)]: Done 79984 tasks      | elapsed: 340.7min\n",
      "[Parallel(n_jobs=-1)]: Done 84034 tasks      | elapsed: 358.0min\n",
      "[Parallel(n_jobs=-1)]: Done 88184 tasks      | elapsed: 374.9min\n",
      "[Parallel(n_jobs=-1)]: Done 88200 out of 88200 | elapsed: 375.2min finished\n"
     ]
    },
    {
     "name": "stdout",
     "output_type": "stream",
     "text": [
      "[03:29:16] WARNING: ../src/learner.cc:541: \n",
      "Parameters: { colsample_by_tree } might not be used.\n",
      "\n",
      "  This may not be accurate due to some parameters are only used in language bindings but\n",
      "  passed down to XGBoost core.  Or some parameters are not used but slip through this\n",
      "  verification. Please open an issue if you find above cases.\n",
      "\n",
      "\n"
     ]
    },
    {
     "data": {
      "text/plain": [
       "GridSearchCV(cv=10,\n",
       "             estimator=XGBRegressor(base_score=None, booster=None,\n",
       "                                    colsample_bylevel=None,\n",
       "                                    colsample_bynode=None,\n",
       "                                    colsample_bytree=None, gamma=None,\n",
       "                                    gpu_id=None, importance_type='gain',\n",
       "                                    interaction_constraints=None,\n",
       "                                    learning_rate=None, max_delta_step=None,\n",
       "                                    max_depth=None, min_child_weight=None,\n",
       "                                    missing=nan, monotone_constraints=None,\n",
       "                                    n_estimators=100, n_jobs...\n",
       "                                    scale_pos_weight=None, subsample=None,\n",
       "                                    tree_method=None, validate_parameters=None,\n",
       "                                    verbosity=None),\n",
       "             n_jobs=-1,\n",
       "             param_grid={'alpha': [1, 2, 3, 5, 7, 10],\n",
       "                         'colsample_by_tree': [0.3, 0.4, 0.5, 0.6, 0.7],\n",
       "                         'learning_rate': [0.001, 0.01, 0.1, 0.25, 0.5, 0.75,\n",
       "                                           1],\n",
       "                         'max_depth': [3, 4, 5, 6, 7, 10, 15],\n",
       "                         'n_estimators': [5, 10, 15, 20, 30, 50],\n",
       "                         'objective': ['reg:squarederror']},\n",
       "             scoring='r2', verbose=1)"
      ]
     },
     "execution_count": 43,
     "metadata": {},
     "output_type": "execute_result"
    }
   ],
   "source": [
    "grid.fit(X_train_scaled, y_train)"
   ]
  },
  {
   "cell_type": "code",
   "execution_count": 44,
   "metadata": {},
   "outputs": [
    {
     "name": "stdout",
     "output_type": "stream",
     "text": [
      "0.03361075720252189\n",
      "{'alpha': 3, 'colsample_by_tree': 0.3, 'learning_rate': 0.5, 'max_depth': 3, 'n_estimators': 5, 'objective': 'reg:squarederror'}\n"
     ]
    }
   ],
   "source": [
    "print(grid.best_score_)\n",
    "print(grid.best_params_)"
   ]
  },
  {
   "cell_type": "code",
   "execution_count": 45,
   "metadata": {},
   "outputs": [],
   "source": [
    "xgb_pred = grid.predict(X_test_scaled)"
   ]
  },
  {
   "cell_type": "code",
   "execution_count": 47,
   "metadata": {},
   "outputs": [
    {
     "name": "stdout",
     "output_type": "stream",
     "text": [
      "MSE: 2274.736668\n"
     ]
    }
   ],
   "source": [
    "mse2 = mean_squared_error(y_test, xgb_pred)\n",
    "print('MSE: %f' %(mse2))"
   ]
  },
  {
   "cell_type": "markdown",
   "metadata": {},
   "source": [
    "# Logistic regression"
   ]
  },
  {
   "cell_type": "code",
   "execution_count": 48,
   "metadata": {},
   "outputs": [],
   "source": [
    "from sklearn.linear_model import LogisticRegression"
   ]
  },
  {
   "cell_type": "code",
   "execution_count": 51,
   "metadata": {},
   "outputs": [],
   "source": [
    "params_dict1 = {'penalty' : ['l1','l2'], 'C' : [0.001,0.01,0.1,1,10]}\n",
    "logres = LogisticRegression()\n",
    "\n",
    "grid2 = GridSearchCV(estimator=logres, param_grid=params_dict1, cv=10, scoring='r2', verbose=1, n_jobs=-1)"
   ]
  },
  {
   "cell_type": "code",
   "execution_count": 53,
   "metadata": {},
   "outputs": [
    {
     "name": "stdout",
     "output_type": "stream",
     "text": [
      "Fitting 10 folds for each of 10 candidates, totalling 100 fits\n"
     ]
    },
    {
     "name": "stderr",
     "output_type": "stream",
     "text": [
      "/home/emile/anaconda3/lib/python3.8/site-packages/sklearn/model_selection/_split.py:670: UserWarning: The least populated class in y has only 1 members, which is less than n_splits=10.\n",
      "  warnings.warn((\"The least populated class in y has only %d\"\n",
      "[Parallel(n_jobs=-1)]: Using backend LokyBackend with 8 concurrent workers.\n",
      "[Parallel(n_jobs=-1)]: Done  34 tasks      | elapsed:  3.3min\n",
      "[Parallel(n_jobs=-1)]: Done 100 out of 100 | elapsed: 10.0min finished\n",
      "/home/emile/anaconda3/lib/python3.8/site-packages/sklearn/linear_model/_logistic.py:762: ConvergenceWarning: lbfgs failed to converge (status=1):\n",
      "STOP: TOTAL NO. of ITERATIONS REACHED LIMIT.\n",
      "\n",
      "Increase the number of iterations (max_iter) or scale the data as shown in:\n",
      "    https://scikit-learn.org/stable/modules/preprocessing.html\n",
      "Please also refer to the documentation for alternative solver options:\n",
      "    https://scikit-learn.org/stable/modules/linear_model.html#logistic-regression\n",
      "  n_iter_i = _check_optimize_result(\n"
     ]
    },
    {
     "data": {
      "text/plain": [
       "GridSearchCV(cv=10, estimator=LogisticRegression(), n_jobs=-1,\n",
       "             param_grid={'C': [0.001, 0.01, 0.1, 1, 10],\n",
       "                         'penalty': ['l1', 'l2']},\n",
       "             scoring='r2', verbose=1)"
      ]
     },
     "execution_count": 53,
     "metadata": {},
     "output_type": "execute_result"
    }
   ],
   "source": [
    "grid2.fit(X_train_scaled, y_train)"
   ]
  },
  {
   "cell_type": "code",
   "execution_count": 55,
   "metadata": {},
   "outputs": [
    {
     "name": "stdout",
     "output_type": "stream",
     "text": [
      "-0.0952523238438798\n",
      "{'C': 0.1, 'penalty': 'l2'}\n"
     ]
    }
   ],
   "source": [
    "print(grid2.best_score_)\n",
    "print(grid2.best_params_)"
   ]
  },
  {
   "cell_type": "code",
   "execution_count": 59,
   "metadata": {},
   "outputs": [],
   "source": [
    "log_pred = grid2.predict(X_test_scaled)"
   ]
  },
  {
   "cell_type": "code",
   "execution_count": 60,
   "metadata": {},
   "outputs": [
    {
     "name": "stdout",
     "output_type": "stream",
     "text": [
      "MSE: 2552.226270\n"
     ]
    }
   ],
   "source": [
    "mse3 = mean_squared_error(y_test, log_pred)\n",
    "print('MSE: %f' %(mse3))"
   ]
  },
  {
   "cell_type": "code",
   "execution_count": 61,
   "metadata": {},
   "outputs": [],
   "source": [
    "models = ['LogisticRegression', 'XGBoost', 'Ridge', 'Elasticnet', 'Lasso' ]\n",
    "MSE = [2552.226270, 2274.558173, 2265.8796081436567, 2264.373329246114, 2263.8919093898785,  ]"
   ]
  },
  {
   "cell_type": "code",
   "execution_count": 65,
   "metadata": {},
   "outputs": [],
   "source": [
    "df_results = pd.DataFrame(models)"
   ]
  },
  {
   "cell_type": "code",
   "execution_count": 67,
   "metadata": {},
   "outputs": [
    {
     "data": {
      "text/html": [
       "<div>\n",
       "<style scoped>\n",
       "    .dataframe tbody tr th:only-of-type {\n",
       "        vertical-align: middle;\n",
       "    }\n",
       "\n",
       "    .dataframe tbody tr th {\n",
       "        vertical-align: top;\n",
       "    }\n",
       "\n",
       "    .dataframe thead th {\n",
       "        text-align: right;\n",
       "    }\n",
       "</style>\n",
       "<table border=\"1\" class=\"dataframe\">\n",
       "  <thead>\n",
       "    <tr style=\"text-align: right;\">\n",
       "      <th></th>\n",
       "      <th>0</th>\n",
       "    </tr>\n",
       "  </thead>\n",
       "  <tbody>\n",
       "    <tr>\n",
       "      <th>0</th>\n",
       "      <td>LogisticRegression</td>\n",
       "    </tr>\n",
       "    <tr>\n",
       "      <th>1</th>\n",
       "      <td>XGBoost</td>\n",
       "    </tr>\n",
       "    <tr>\n",
       "      <th>2</th>\n",
       "      <td>Ridge</td>\n",
       "    </tr>\n",
       "    <tr>\n",
       "      <th>3</th>\n",
       "      <td>Elasticnet</td>\n",
       "    </tr>\n",
       "    <tr>\n",
       "      <th>4</th>\n",
       "      <td>Lasso</td>\n",
       "    </tr>\n",
       "  </tbody>\n",
       "</table>\n",
       "</div>"
      ],
      "text/plain": [
       "                    0\n",
       "0  LogisticRegression\n",
       "1             XGBoost\n",
       "2               Ridge\n",
       "3          Elasticnet\n",
       "4               Lasso"
      ]
     },
     "execution_count": 67,
     "metadata": {},
     "output_type": "execute_result"
    }
   ],
   "source": [
    "df_results"
   ]
  },
  {
   "cell_type": "code",
   "execution_count": 68,
   "metadata": {},
   "outputs": [],
   "source": [
    "df_results['MSE'] = MSE"
   ]
  },
  {
   "cell_type": "code",
   "execution_count": 73,
   "metadata": {},
   "outputs": [
    {
     "data": {
      "text/plain": [
       "int"
      ]
     },
     "execution_count": 73,
     "metadata": {},
     "output_type": "execute_result"
    }
   ],
   "source": [
    "type(df_results.columns[0])"
   ]
  },
  {
   "cell_type": "code",
   "execution_count": 77,
   "metadata": {},
   "outputs": [],
   "source": [
    "df_results = df_results.rename(columns={0:'Models'})"
   ]
  },
  {
   "cell_type": "code",
   "execution_count": 78,
   "metadata": {},
   "outputs": [
    {
     "data": {
      "text/html": [
       "<div>\n",
       "<style scoped>\n",
       "    .dataframe tbody tr th:only-of-type {\n",
       "        vertical-align: middle;\n",
       "    }\n",
       "\n",
       "    .dataframe tbody tr th {\n",
       "        vertical-align: top;\n",
       "    }\n",
       "\n",
       "    .dataframe thead th {\n",
       "        text-align: right;\n",
       "    }\n",
       "</style>\n",
       "<table border=\"1\" class=\"dataframe\">\n",
       "  <thead>\n",
       "    <tr style=\"text-align: right;\">\n",
       "      <th></th>\n",
       "      <th>Models</th>\n",
       "      <th>MSE</th>\n",
       "    </tr>\n",
       "  </thead>\n",
       "  <tbody>\n",
       "    <tr>\n",
       "      <th>0</th>\n",
       "      <td>LogisticRegression</td>\n",
       "      <td>2552.226270</td>\n",
       "    </tr>\n",
       "    <tr>\n",
       "      <th>1</th>\n",
       "      <td>XGBoost</td>\n",
       "      <td>2274.558173</td>\n",
       "    </tr>\n",
       "    <tr>\n",
       "      <th>2</th>\n",
       "      <td>Ridge</td>\n",
       "      <td>2265.879608</td>\n",
       "    </tr>\n",
       "    <tr>\n",
       "      <th>3</th>\n",
       "      <td>Elasticnet</td>\n",
       "      <td>2264.373329</td>\n",
       "    </tr>\n",
       "    <tr>\n",
       "      <th>4</th>\n",
       "      <td>Lasso</td>\n",
       "      <td>2263.891909</td>\n",
       "    </tr>\n",
       "  </tbody>\n",
       "</table>\n",
       "</div>"
      ],
      "text/plain": [
       "               Models          MSE\n",
       "0  LogisticRegression  2552.226270\n",
       "1             XGBoost  2274.558173\n",
       "2               Ridge  2265.879608\n",
       "3          Elasticnet  2264.373329\n",
       "4               Lasso  2263.891909"
      ]
     },
     "execution_count": 78,
     "metadata": {},
     "output_type": "execute_result"
    }
   ],
   "source": [
    "df_results"
   ]
  }
 ],
 "metadata": {
  "kernelspec": {
   "display_name": "Python 3",
   "language": "python",
   "name": "python3"
  },
  "language_info": {
   "codemirror_mode": {
    "name": "ipython",
    "version": 3
   },
   "file_extension": ".py",
   "mimetype": "text/x-python",
   "name": "python",
   "nbconvert_exporter": "python",
   "pygments_lexer": "ipython3",
   "version": "3.8.5"
  }
 },
 "nbformat": 4,
 "nbformat_minor": 4
}
