{
 "cells": [
  {
   "cell_type": "code",
   "execution_count": 180,
   "metadata": {},
   "outputs": [],
   "source": [
    "import pandas as pd\n",
    "import numpy as np\n",
    "from sklearn.preprocessing import StandardScaler\n",
    "from sklearn import linear_model, datasets\n",
    "from sklearn.model_selection import GridSearchCV\n",
    "from sklearn.model_selection import KFold\n",
    "from sklearn.model_selection import train_test_split"
   ]
  },
  {
   "cell_type": "markdown",
   "metadata": {},
   "source": [
    "### Import the dataset"
   ]
  },
  {
   "cell_type": "code",
   "execution_count": 181,
   "metadata": {},
   "outputs": [],
   "source": [
    "df = pd.read_csv('flights_test_last.csv')"
   ]
  },
  {
   "cell_type": "code",
   "execution_count": 182,
   "metadata": {},
   "outputs": [
    {
     "data": {
      "text/html": [
       "<div>\n",
       "<style scoped>\n",
       "    .dataframe tbody tr th:only-of-type {\n",
       "        vertical-align: middle;\n",
       "    }\n",
       "\n",
       "    .dataframe tbody tr th {\n",
       "        vertical-align: top;\n",
       "    }\n",
       "\n",
       "    .dataframe thead th {\n",
       "        text-align: right;\n",
       "    }\n",
       "</style>\n",
       "<table border=\"1\" class=\"dataframe\">\n",
       "  <thead>\n",
       "    <tr style=\"text-align: right;\">\n",
       "      <th></th>\n",
       "      <th>fl_date</th>\n",
       "      <th>mkt_unique_carrier</th>\n",
       "      <th>branded_code_share</th>\n",
       "      <th>mkt_carrier</th>\n",
       "      <th>mkt_carrier_fl_num</th>\n",
       "      <th>op_unique_carrier</th>\n",
       "      <th>tail_num</th>\n",
       "      <th>op_carrier_fl_num</th>\n",
       "      <th>origin_airport_id</th>\n",
       "      <th>origin</th>\n",
       "      <th>origin_city_name</th>\n",
       "      <th>dest_airport_id</th>\n",
       "      <th>dest</th>\n",
       "      <th>dest_city_name</th>\n",
       "      <th>crs_dep_time</th>\n",
       "      <th>crs_arr_time</th>\n",
       "      <th>dup</th>\n",
       "      <th>crs_elapsed_time</th>\n",
       "      <th>flights</th>\n",
       "      <th>distance</th>\n",
       "    </tr>\n",
       "  </thead>\n",
       "  <tbody>\n",
       "    <tr>\n",
       "      <th>0</th>\n",
       "      <td>2020-01-01</td>\n",
       "      <td>WN</td>\n",
       "      <td>WN</td>\n",
       "      <td>WN</td>\n",
       "      <td>5774</td>\n",
       "      <td>WN</td>\n",
       "      <td>N8542Z</td>\n",
       "      <td>5774</td>\n",
       "      <td>15016</td>\n",
       "      <td>STL</td>\n",
       "      <td>St. Louis, MO</td>\n",
       "      <td>13204</td>\n",
       "      <td>MCO</td>\n",
       "      <td>Orlando, FL</td>\n",
       "      <td>1320</td>\n",
       "      <td>1635</td>\n",
       "      <td>N</td>\n",
       "      <td>135</td>\n",
       "      <td>1</td>\n",
       "      <td>882</td>\n",
       "    </tr>\n",
       "    <tr>\n",
       "      <th>1</th>\n",
       "      <td>2020-01-01</td>\n",
       "      <td>WN</td>\n",
       "      <td>WN</td>\n",
       "      <td>WN</td>\n",
       "      <td>4650</td>\n",
       "      <td>WN</td>\n",
       "      <td>N457WN</td>\n",
       "      <td>4650</td>\n",
       "      <td>15016</td>\n",
       "      <td>STL</td>\n",
       "      <td>St. Louis, MO</td>\n",
       "      <td>13232</td>\n",
       "      <td>MDW</td>\n",
       "      <td>Chicago, IL</td>\n",
       "      <td>1150</td>\n",
       "      <td>1300</td>\n",
       "      <td>N</td>\n",
       "      <td>70</td>\n",
       "      <td>1</td>\n",
       "      <td>251</td>\n",
       "    </tr>\n",
       "    <tr>\n",
       "      <th>2</th>\n",
       "      <td>2020-01-01</td>\n",
       "      <td>WN</td>\n",
       "      <td>WN</td>\n",
       "      <td>WN</td>\n",
       "      <td>4681</td>\n",
       "      <td>WN</td>\n",
       "      <td>N7727A</td>\n",
       "      <td>4681</td>\n",
       "      <td>15016</td>\n",
       "      <td>STL</td>\n",
       "      <td>St. Louis, MO</td>\n",
       "      <td>13232</td>\n",
       "      <td>MDW</td>\n",
       "      <td>Chicago, IL</td>\n",
       "      <td>1825</td>\n",
       "      <td>1930</td>\n",
       "      <td>N</td>\n",
       "      <td>65</td>\n",
       "      <td>1</td>\n",
       "      <td>251</td>\n",
       "    </tr>\n",
       "    <tr>\n",
       "      <th>3</th>\n",
       "      <td>2020-01-01</td>\n",
       "      <td>WN</td>\n",
       "      <td>WN</td>\n",
       "      <td>WN</td>\n",
       "      <td>5330</td>\n",
       "      <td>WN</td>\n",
       "      <td>N457WN</td>\n",
       "      <td>5330</td>\n",
       "      <td>15016</td>\n",
       "      <td>STL</td>\n",
       "      <td>St. Louis, MO</td>\n",
       "      <td>13232</td>\n",
       "      <td>MDW</td>\n",
       "      <td>Chicago, IL</td>\n",
       "      <td>800</td>\n",
       "      <td>905</td>\n",
       "      <td>N</td>\n",
       "      <td>65</td>\n",
       "      <td>1</td>\n",
       "      <td>251</td>\n",
       "    </tr>\n",
       "    <tr>\n",
       "      <th>4</th>\n",
       "      <td>2020-01-01</td>\n",
       "      <td>WN</td>\n",
       "      <td>WN</td>\n",
       "      <td>WN</td>\n",
       "      <td>5963</td>\n",
       "      <td>WN</td>\n",
       "      <td>N216WR</td>\n",
       "      <td>5963</td>\n",
       "      <td>15016</td>\n",
       "      <td>STL</td>\n",
       "      <td>St. Louis, MO</td>\n",
       "      <td>13232</td>\n",
       "      <td>MDW</td>\n",
       "      <td>Chicago, IL</td>\n",
       "      <td>2020</td>\n",
       "      <td>2130</td>\n",
       "      <td>N</td>\n",
       "      <td>70</td>\n",
       "      <td>1</td>\n",
       "      <td>251</td>\n",
       "    </tr>\n",
       "    <tr>\n",
       "      <th>...</th>\n",
       "      <td>...</td>\n",
       "      <td>...</td>\n",
       "      <td>...</td>\n",
       "      <td>...</td>\n",
       "      <td>...</td>\n",
       "      <td>...</td>\n",
       "      <td>...</td>\n",
       "      <td>...</td>\n",
       "      <td>...</td>\n",
       "      <td>...</td>\n",
       "      <td>...</td>\n",
       "      <td>...</td>\n",
       "      <td>...</td>\n",
       "      <td>...</td>\n",
       "      <td>...</td>\n",
       "      <td>...</td>\n",
       "      <td>...</td>\n",
       "      <td>...</td>\n",
       "      <td>...</td>\n",
       "      <td>...</td>\n",
       "    </tr>\n",
       "    <tr>\n",
       "      <th>31471</th>\n",
       "      <td>2020-01-31</td>\n",
       "      <td>AA</td>\n",
       "      <td>AA_CODESHARE</td>\n",
       "      <td>AA</td>\n",
       "      <td>4398</td>\n",
       "      <td>YX</td>\n",
       "      <td>N112HQ</td>\n",
       "      <td>4398</td>\n",
       "      <td>14100</td>\n",
       "      <td>PHL</td>\n",
       "      <td>Philadelphia, PA</td>\n",
       "      <td>14576</td>\n",
       "      <td>ROC</td>\n",
       "      <td>Rochester, NY</td>\n",
       "      <td>2120</td>\n",
       "      <td>2243</td>\n",
       "      <td>N</td>\n",
       "      <td>83</td>\n",
       "      <td>1</td>\n",
       "      <td>257</td>\n",
       "    </tr>\n",
       "    <tr>\n",
       "      <th>31472</th>\n",
       "      <td>2020-01-31</td>\n",
       "      <td>AA</td>\n",
       "      <td>AA_CODESHARE</td>\n",
       "      <td>AA</td>\n",
       "      <td>4399</td>\n",
       "      <td>YX</td>\n",
       "      <td>N128HQ</td>\n",
       "      <td>4399</td>\n",
       "      <td>11057</td>\n",
       "      <td>CLT</td>\n",
       "      <td>Charlotte, NC</td>\n",
       "      <td>12339</td>\n",
       "      <td>IND</td>\n",
       "      <td>Indianapolis, IN</td>\n",
       "      <td>940</td>\n",
       "      <td>1130</td>\n",
       "      <td>N</td>\n",
       "      <td>110</td>\n",
       "      <td>1</td>\n",
       "      <td>427</td>\n",
       "    </tr>\n",
       "    <tr>\n",
       "      <th>31473</th>\n",
       "      <td>2020-01-31</td>\n",
       "      <td>AA</td>\n",
       "      <td>AA_CODESHARE</td>\n",
       "      <td>AA</td>\n",
       "      <td>4399</td>\n",
       "      <td>YX</td>\n",
       "      <td>N128HQ</td>\n",
       "      <td>4399</td>\n",
       "      <td>12339</td>\n",
       "      <td>IND</td>\n",
       "      <td>Indianapolis, IN</td>\n",
       "      <td>11057</td>\n",
       "      <td>CLT</td>\n",
       "      <td>Charlotte, NC</td>\n",
       "      <td>1202</td>\n",
       "      <td>1344</td>\n",
       "      <td>N</td>\n",
       "      <td>102</td>\n",
       "      <td>1</td>\n",
       "      <td>427</td>\n",
       "    </tr>\n",
       "    <tr>\n",
       "      <th>31474</th>\n",
       "      <td>2020-01-31</td>\n",
       "      <td>AA</td>\n",
       "      <td>AA_CODESHARE</td>\n",
       "      <td>AA</td>\n",
       "      <td>4400</td>\n",
       "      <td>YX</td>\n",
       "      <td>N110HQ</td>\n",
       "      <td>4400</td>\n",
       "      <td>11278</td>\n",
       "      <td>DCA</td>\n",
       "      <td>Washington, DC</td>\n",
       "      <td>12339</td>\n",
       "      <td>IND</td>\n",
       "      <td>Indianapolis, IN</td>\n",
       "      <td>1940</td>\n",
       "      <td>2137</td>\n",
       "      <td>N</td>\n",
       "      <td>117</td>\n",
       "      <td>1</td>\n",
       "      <td>500</td>\n",
       "    </tr>\n",
       "    <tr>\n",
       "      <th>31475</th>\n",
       "      <td>2020-01-31</td>\n",
       "      <td>AA</td>\n",
       "      <td>AA_CODESHARE</td>\n",
       "      <td>AA</td>\n",
       "      <td>4401</td>\n",
       "      <td>YX</td>\n",
       "      <td>N426YX</td>\n",
       "      <td>4401</td>\n",
       "      <td>15919</td>\n",
       "      <td>XNA</td>\n",
       "      <td>Fayetteville, AR</td>\n",
       "      <td>11057</td>\n",
       "      <td>CLT</td>\n",
       "      <td>Charlotte, NC</td>\n",
       "      <td>710</td>\n",
       "      <td>1028</td>\n",
       "      <td>N</td>\n",
       "      <td>138</td>\n",
       "      <td>1</td>\n",
       "      <td>754</td>\n",
       "    </tr>\n",
       "  </tbody>\n",
       "</table>\n",
       "<p>31476 rows × 20 columns</p>\n",
       "</div>"
      ],
      "text/plain": [
       "          fl_date mkt_unique_carrier branded_code_share mkt_carrier  \\\n",
       "0      2020-01-01                 WN                 WN          WN   \n",
       "1      2020-01-01                 WN                 WN          WN   \n",
       "2      2020-01-01                 WN                 WN          WN   \n",
       "3      2020-01-01                 WN                 WN          WN   \n",
       "4      2020-01-01                 WN                 WN          WN   \n",
       "...           ...                ...                ...         ...   \n",
       "31471  2020-01-31                 AA       AA_CODESHARE          AA   \n",
       "31472  2020-01-31                 AA       AA_CODESHARE          AA   \n",
       "31473  2020-01-31                 AA       AA_CODESHARE          AA   \n",
       "31474  2020-01-31                 AA       AA_CODESHARE          AA   \n",
       "31475  2020-01-31                 AA       AA_CODESHARE          AA   \n",
       "\n",
       "       mkt_carrier_fl_num op_unique_carrier tail_num  op_carrier_fl_num  \\\n",
       "0                    5774                WN   N8542Z               5774   \n",
       "1                    4650                WN   N457WN               4650   \n",
       "2                    4681                WN   N7727A               4681   \n",
       "3                    5330                WN   N457WN               5330   \n",
       "4                    5963                WN   N216WR               5963   \n",
       "...                   ...               ...      ...                ...   \n",
       "31471                4398                YX   N112HQ               4398   \n",
       "31472                4399                YX   N128HQ               4399   \n",
       "31473                4399                YX   N128HQ               4399   \n",
       "31474                4400                YX   N110HQ               4400   \n",
       "31475                4401                YX   N426YX               4401   \n",
       "\n",
       "       origin_airport_id origin  origin_city_name  dest_airport_id dest  \\\n",
       "0                  15016    STL     St. Louis, MO            13204  MCO   \n",
       "1                  15016    STL     St. Louis, MO            13232  MDW   \n",
       "2                  15016    STL     St. Louis, MO            13232  MDW   \n",
       "3                  15016    STL     St. Louis, MO            13232  MDW   \n",
       "4                  15016    STL     St. Louis, MO            13232  MDW   \n",
       "...                  ...    ...               ...              ...  ...   \n",
       "31471              14100    PHL  Philadelphia, PA            14576  ROC   \n",
       "31472              11057    CLT     Charlotte, NC            12339  IND   \n",
       "31473              12339    IND  Indianapolis, IN            11057  CLT   \n",
       "31474              11278    DCA    Washington, DC            12339  IND   \n",
       "31475              15919    XNA  Fayetteville, AR            11057  CLT   \n",
       "\n",
       "         dest_city_name  crs_dep_time  crs_arr_time dup  crs_elapsed_time  \\\n",
       "0           Orlando, FL          1320          1635   N               135   \n",
       "1           Chicago, IL          1150          1300   N                70   \n",
       "2           Chicago, IL          1825          1930   N                65   \n",
       "3           Chicago, IL           800           905   N                65   \n",
       "4           Chicago, IL          2020          2130   N                70   \n",
       "...                 ...           ...           ...  ..               ...   \n",
       "31471     Rochester, NY          2120          2243   N                83   \n",
       "31472  Indianapolis, IN           940          1130   N               110   \n",
       "31473     Charlotte, NC          1202          1344   N               102   \n",
       "31474  Indianapolis, IN          1940          2137   N               117   \n",
       "31475     Charlotte, NC           710          1028   N               138   \n",
       "\n",
       "       flights  distance  \n",
       "0            1       882  \n",
       "1            1       251  \n",
       "2            1       251  \n",
       "3            1       251  \n",
       "4            1       251  \n",
       "...        ...       ...  \n",
       "31471        1       257  \n",
       "31472        1       427  \n",
       "31473        1       427  \n",
       "31474        1       500  \n",
       "31475        1       754  \n",
       "\n",
       "[31476 rows x 20 columns]"
      ]
     },
     "execution_count": 182,
     "metadata": {},
     "output_type": "execute_result"
    }
   ],
   "source": [
    "df"
   ]
  },
  {
   "cell_type": "markdown",
   "metadata": {},
   "source": [
    "### Delay Averages from flights dataset"
   ]
  },
  {
   "cell_type": "code",
   "execution_count": 183,
   "metadata": {},
   "outputs": [],
   "source": [
    "carrier_delay = {'WN': 3.727365467992859, 'DL': 3.8649281176863926, 'MQ': 1.7425742574257426, 'YV': 4.975285171102661, \n",
    "                'PT': 2.802919708029197, 'UA': 3.761437908496732, 'OO': 4.858203916272789, 'EV': 10.87032967032967, \n",
    "                'G7': 8.091286307053942, 'YX': 3.2358490566037736, '9E': 3.2622739018087854, 'G4': 9.703703703703704, \n",
    "                'AA': 4.564059339177343, 'CP': 3.3344947735191637, 'QX': 1.847457627118644, 'NK': 3.289568345323741, \n",
    "                'AX': 6.3875, 'HA': 2.65625, 'B6': 5.428360413589365, 'OH': 3.723849372384937, 'AS': 3.430513595166163,\n",
    "                'F9': 7.009685230024213, 'ZW': 3.430513595166163, 'C5': 4.96039603960396, 'EM': 0, 'KS': 0, 'VX': 0.0}\n",
    "\n",
    "\n",
    "\n",
    "weather_delay = {'WN': 0.19459321601632237, 'DL': 0.6084921430959546, 'MQ': 0.7564356435643564, 'YV': 0.10836501901140684,\n",
    "               'PT': 0.42700729927007297, 'UA': 0.6606753812636166, '00': 1.1201890614449697, 'EV':0.18021978021978022,\n",
    "               'G7': 0.966804979253112, 'YX': 0.6446540880503144, '9E': 0.3733850129198966, 'G4': 0.0,\n",
    "               'AA': 0.5906945380984491, 'CP': 0.11498257839721254, 'QX': 0.19322033898305085, 'NK': 0.5755395683453237,\n",
    "               'AX': 4.129166666666666, 'HA': 0.0, 'B6': 0.2895125553914328, 'OH': 1.1192468619246863, 'AS': 0.30966767371601206,\n",
    "               'F9': 0.2687651331719128, 'ZW': 0.176056338028169, 'C5': 4.693069306930693, 'EM': 0, 'KS':0, 'VX':0.0}\n",
    "\n",
    "\n",
    "nas_delay = {'WN' :1.8834480999744962, 'DL': 2.809762621196924, 'MQ':4.330693069306931, 'YV':2.693916349809886,\n",
    "             'PT':4.321167883211679, 'UA':3.8649237472766886, '00':2.37272113436867, 'EV':3.024175824175824,\n",
    "             'G7':1.7593360995850622, 'YX':3.256289308176101, '9E':3.5271317829457365, 'G4':1.4444444444444444,\n",
    "             'AA':3.4265003371544167, 'CP':1.2299651567944252, 'QX':1.464406779661017, 'NK':7.76978417266187,\n",
    "             'AX': 3.2708333333333335, 'HA':0.0, 'B6': 5.908419497784343, 'OH': 2.192468619246862, 'AS':4.069486404833837,\n",
    "             'F9':3.154963680387409, 'ZW': 1.3943661971830985, 'C5':9.554455445544555, 'EM':0, 'KS':0, 'VX':0.75}\n",
    "\n",
    "\n",
    "security_delay = {'WN': 0.015302218821729151, 'DL': 0.0, 'MQ':0.0, 'YV':0.0,\n",
    "                  'PT': 0.0, 'UA': 0.009259259259259259, 'OO': 0.0, 'EV':0.0,\n",
    "                  'G7': 0.0, 'YX': 0.031446540880503145, '9E': 0.0, 'G4': 0.5802469135802469,\n",
    "                  'AA': 0.01921780175320297, 'CP': 0.0, 'QX': 0.0, 'NK': 0.0,\n",
    "                  'AX': 0.0, 'HA': 0.0, 'B6': 0.0103397341211226, 'OH':0.0, 'AS':0.1540785498489426,\n",
    "                  'F9': 0.0, 'ZW':0.0, 'C5':0.0, 'EM':0, 'KS': 0, 'VX':0.0}\n",
    "\n",
    "late_aircraft_delay = {'WN': 4.490946187197143, 'DL':2.885322634570378, 'MQ':3.6653465346534655, 'YV':8.260456273764259,\n",
    "                       'PT':5.142335766423358, 'UA':6.215686274509804, 'OO':5.638082376772451, 'EV':5.367032967032967,\n",
    "                       'G7':5.668049792531121, 'YX':4.897798742138365, '9E':4.640826873385013, 'G4':2.197530864197531,\n",
    "                       'AA':5.848617666891436, 'CP':3.9686411149825784, 'QX':1.5728813559322035, 'NK':3.264388489208633,\n",
    "                       'AX':13.533333333333333, 'HA':0.0, 'B6':7.327917282127031, 'OH':6.688284518828452, 'AS':3.8716012084592144,\n",
    "                       'F9':8.467312348668282, 'ZW':4.47887323943662, 'C5':15.574257425742575, 'EM':0, 'KS':0, 'VX':10.75}\n",
    "\n",
    "\n",
    "dep_delay = {'WN':11.87554195358327, 'DL':8.658308258107656, 'MQ':4.9504950495049505, 'YV':13.098859315589353,\n",
    "             'PT': 7.390510948905109, 'UA':11.708605664488017, 'OO':10.525995948683322, 'EV':16.334065934065933,\n",
    "             'G7': 14.282157676348548, 'YX': 7.570754716981132, '9E':7.760981912144703, 'G4':11.765432098765432,\n",
    "             'AA': 12.260283209710048, 'CP':5.7282229965156795, 'QX':1.806779661016949, 'NK':12.226618705035971,\n",
    "             'AX':22.5375, 'HA':-0.875, 'B6': 16.04431314623338, 'OH': 10.828451882845188, 'AS':7.329305135951661,\n",
    "             'F9': 17.406779661016948, 'ZW':3.2816901408450705, 'C5':28.06930693069307, 'EM':0, 'KS':0, 'VX':9.5}"
   ]
  },
  {
   "cell_type": "markdown",
   "metadata": {},
   "source": [
    "### Add delay averages to the dataframe (obtained from flights dataset)"
   ]
  },
  {
   "cell_type": "code",
   "execution_count": 184,
   "metadata": {},
   "outputs": [],
   "source": [
    "df['avg_carrier_delays'] = 0\n",
    "\n",
    "for word in carrier_delay.keys():\n",
    "    df.loc[df['op_unique_carrier'].str.contains(word, na=False), \n",
    "                   ['avg_carrier_delays']] = carrier_delay[word]"
   ]
  },
  {
   "cell_type": "code",
   "execution_count": 185,
   "metadata": {},
   "outputs": [],
   "source": [
    "df['avg_weather_delays'] = 0\n",
    "\n",
    "for word in weather_delay.keys():\n",
    "    df.loc[df['op_unique_carrier'].str.contains(word, na=False), \n",
    "                   ['avg_weather_delays']] = weather_delay[word]"
   ]
  },
  {
   "cell_type": "code",
   "execution_count": 186,
   "metadata": {},
   "outputs": [],
   "source": [
    "df['avg_nas_delays'] = 0\n",
    "\n",
    "for word in nas_delay.keys():\n",
    "    df.loc[df['op_unique_carrier'].str.contains(word, na=False), \n",
    "                   ['avg_nas_delays']] = nas_delay[word]"
   ]
  },
  {
   "cell_type": "code",
   "execution_count": 187,
   "metadata": {},
   "outputs": [],
   "source": [
    "df['avg_security_delays'] = 0\n",
    "\n",
    "for word in security_delay.keys():\n",
    "    df.loc[df['op_unique_carrier'].str.contains(word, na=False), \n",
    "                   ['avg_security_delays']] = security_delay[word]"
   ]
  },
  {
   "cell_type": "code",
   "execution_count": 188,
   "metadata": {},
   "outputs": [],
   "source": [
    "df['avg_late_aircraft_delays'] = 0\n",
    "\n",
    "for word in late_aircraft_delay.keys():\n",
    "    df.loc[df['op_unique_carrier'].str.contains(word, na=False), \n",
    "                   ['avg_late_aircraft_delays']] = late_aircraft_delay[word]"
   ]
  },
  {
   "cell_type": "code",
   "execution_count": 189,
   "metadata": {},
   "outputs": [],
   "source": [
    "df['avg_dep_delays'] = 0\n",
    "\n",
    "for word in dep_delay.keys():\n",
    "    df.loc[df['op_unique_carrier'].str.contains(word, na=False), \n",
    "                   ['avg_dep_delays']] = dep_delay[word]"
   ]
  },
  {
   "cell_type": "code",
   "execution_count": 190,
   "metadata": {},
   "outputs": [
    {
     "data": {
      "text/plain": [
       "(31476, 26)"
      ]
     },
     "execution_count": 190,
     "metadata": {},
     "output_type": "execute_result"
    }
   ],
   "source": [
    "df.shape"
   ]
  },
  {
   "cell_type": "markdown",
   "metadata": {},
   "source": [
    "### Import weather data"
   ]
  },
  {
   "cell_type": "code",
   "execution_count": 191,
   "metadata": {},
   "outputs": [],
   "source": [
    "df_weather = pd.read_csv('weather_dataframe.csv')"
   ]
  },
  {
   "cell_type": "code",
   "execution_count": 192,
   "metadata": {},
   "outputs": [
    {
     "data": {
      "text/html": [
       "<div>\n",
       "<style scoped>\n",
       "    .dataframe tbody tr th:only-of-type {\n",
       "        vertical-align: middle;\n",
       "    }\n",
       "\n",
       "    .dataframe tbody tr th {\n",
       "        vertical-align: top;\n",
       "    }\n",
       "\n",
       "    .dataframe thead th {\n",
       "        text-align: right;\n",
       "    }\n",
       "</style>\n",
       "<table border=\"1\" class=\"dataframe\">\n",
       "  <thead>\n",
       "    <tr style=\"text-align: right;\">\n",
       "      <th></th>\n",
       "      <th>fl_date</th>\n",
       "      <th>temp_night_list</th>\n",
       "      <th>temp_day_list</th>\n",
       "      <th>speed_night</th>\n",
       "      <th>speed_day</th>\n",
       "      <th>desc_night</th>\n",
       "      <th>desc_day</th>\n",
       "      <th>origin_city_name</th>\n",
       "    </tr>\n",
       "  </thead>\n",
       "  <tbody>\n",
       "    <tr>\n",
       "      <th>0</th>\n",
       "      <td>2018-01-01</td>\n",
       "      <td>-17</td>\n",
       "      <td>-17</td>\n",
       "      <td>21</td>\n",
       "      <td>15</td>\n",
       "      <td>Clear</td>\n",
       "      <td>Patchy light snow</td>\n",
       "      <td>Chicago, IL</td>\n",
       "    </tr>\n",
       "    <tr>\n",
       "      <th>1</th>\n",
       "      <td>2018-01-02</td>\n",
       "      <td>-18</td>\n",
       "      <td>-14</td>\n",
       "      <td>15</td>\n",
       "      <td>19</td>\n",
       "      <td>Clear</td>\n",
       "      <td>Partly cloudy</td>\n",
       "      <td>Chicago, IL</td>\n",
       "    </tr>\n",
       "    <tr>\n",
       "      <th>2</th>\n",
       "      <td>2018-01-03</td>\n",
       "      <td>-13</td>\n",
       "      <td>-9</td>\n",
       "      <td>26</td>\n",
       "      <td>19</td>\n",
       "      <td>Clear</td>\n",
       "      <td>Moderate snow</td>\n",
       "      <td>Chicago, IL</td>\n",
       "    </tr>\n",
       "    <tr>\n",
       "      <th>3</th>\n",
       "      <td>2018-01-04</td>\n",
       "      <td>-13</td>\n",
       "      <td>-12</td>\n",
       "      <td>23</td>\n",
       "      <td>18</td>\n",
       "      <td>Partly cloudy</td>\n",
       "      <td>Sunny</td>\n",
       "      <td>Chicago, IL</td>\n",
       "    </tr>\n",
       "    <tr>\n",
       "      <th>4</th>\n",
       "      <td>2018-01-05</td>\n",
       "      <td>-14</td>\n",
       "      <td>-13</td>\n",
       "      <td>15</td>\n",
       "      <td>18</td>\n",
       "      <td>Clear</td>\n",
       "      <td>Sunny</td>\n",
       "      <td>Chicago, IL</td>\n",
       "    </tr>\n",
       "    <tr>\n",
       "      <th>...</th>\n",
       "      <td>...</td>\n",
       "      <td>...</td>\n",
       "      <td>...</td>\n",
       "      <td>...</td>\n",
       "      <td>...</td>\n",
       "      <td>...</td>\n",
       "      <td>...</td>\n",
       "      <td>...</td>\n",
       "    </tr>\n",
       "    <tr>\n",
       "      <th>27355</th>\n",
       "      <td>2020-06-26</td>\n",
       "      <td>26</td>\n",
       "      <td>28</td>\n",
       "      <td>21</td>\n",
       "      <td>22</td>\n",
       "      <td>Partly cloudy</td>\n",
       "      <td>Overcast</td>\n",
       "      <td>Dallas/Fort Worth, TX</td>\n",
       "    </tr>\n",
       "    <tr>\n",
       "      <th>27356</th>\n",
       "      <td>2020-06-27</td>\n",
       "      <td>26</td>\n",
       "      <td>31</td>\n",
       "      <td>26</td>\n",
       "      <td>23</td>\n",
       "      <td>Partly cloudy</td>\n",
       "      <td>Partly cloudy</td>\n",
       "      <td>Dallas/Fort Worth, TX</td>\n",
       "    </tr>\n",
       "    <tr>\n",
       "      <th>27357</th>\n",
       "      <td>2020-06-28</td>\n",
       "      <td>28</td>\n",
       "      <td>31</td>\n",
       "      <td>25</td>\n",
       "      <td>28</td>\n",
       "      <td>Partly cloudy</td>\n",
       "      <td>Cloudy</td>\n",
       "      <td>Dallas/Fort Worth, TX</td>\n",
       "    </tr>\n",
       "    <tr>\n",
       "      <th>27358</th>\n",
       "      <td>2020-06-29</td>\n",
       "      <td>28</td>\n",
       "      <td>31</td>\n",
       "      <td>29</td>\n",
       "      <td>30</td>\n",
       "      <td>Partly cloudy</td>\n",
       "      <td>Thundery outbreaks possible</td>\n",
       "      <td>Dallas/Fort Worth, TX</td>\n",
       "    </tr>\n",
       "    <tr>\n",
       "      <th>27359</th>\n",
       "      <td>2020-06-30</td>\n",
       "      <td>29</td>\n",
       "      <td>32</td>\n",
       "      <td>30</td>\n",
       "      <td>23</td>\n",
       "      <td>Partly cloudy</td>\n",
       "      <td>Cloudy</td>\n",
       "      <td>Dallas/Fort Worth, TX</td>\n",
       "    </tr>\n",
       "  </tbody>\n",
       "</table>\n",
       "<p>27360 rows × 8 columns</p>\n",
       "</div>"
      ],
      "text/plain": [
       "          fl_date  temp_night_list  temp_day_list  speed_night  speed_day  \\\n",
       "0      2018-01-01              -17            -17           21         15   \n",
       "1      2018-01-02              -18            -14           15         19   \n",
       "2      2018-01-03              -13             -9           26         19   \n",
       "3      2018-01-04              -13            -12           23         18   \n",
       "4      2018-01-05              -14            -13           15         18   \n",
       "...           ...              ...            ...          ...        ...   \n",
       "27355  2020-06-26               26             28           21         22   \n",
       "27356  2020-06-27               26             31           26         23   \n",
       "27357  2020-06-28               28             31           25         28   \n",
       "27358  2020-06-29               28             31           29         30   \n",
       "27359  2020-06-30               29             32           30         23   \n",
       "\n",
       "          desc_night                     desc_day       origin_city_name  \n",
       "0              Clear            Patchy light snow            Chicago, IL  \n",
       "1              Clear                Partly cloudy            Chicago, IL  \n",
       "2              Clear                Moderate snow            Chicago, IL  \n",
       "3      Partly cloudy                        Sunny            Chicago, IL  \n",
       "4              Clear                        Sunny            Chicago, IL  \n",
       "...              ...                          ...                    ...  \n",
       "27355  Partly cloudy                     Overcast  Dallas/Fort Worth, TX  \n",
       "27356  Partly cloudy                Partly cloudy  Dallas/Fort Worth, TX  \n",
       "27357  Partly cloudy                       Cloudy  Dallas/Fort Worth, TX  \n",
       "27358  Partly cloudy  Thundery outbreaks possible  Dallas/Fort Worth, TX  \n",
       "27359  Partly cloudy                       Cloudy  Dallas/Fort Worth, TX  \n",
       "\n",
       "[27360 rows x 8 columns]"
      ]
     },
     "execution_count": 192,
     "metadata": {},
     "output_type": "execute_result"
    }
   ],
   "source": [
    "df_weather"
   ]
  },
  {
   "cell_type": "markdown",
   "metadata": {},
   "source": [
    "### Convert weather descriptions into categories"
   ]
  },
  {
   "cell_type": "code",
   "execution_count": 193,
   "metadata": {},
   "outputs": [],
   "source": [
    "df_weather['weather_desc'] = ''\n",
    "\n",
    "weather_dict = {'Patchy light snow': 'Snow', 'Overcast': 'Cloudy', 'Cloudy':'Cloudy', 'Light rain':'Rain',\n",
    "       'Sunny':'Sunny', 'Partly cloudy':'Cloudy', 'Moderate snow':'Snow', 'Patchy light rain':'Rain',\n",
    "       'Light drizzle':'Cloudy', 'Patchy rain possible':'Cloudy', 'Patchy light drizzle':'Cloudy',\n",
    "       'Fog':'Cloudy', 'Blizzard':'Storm', 'Heavy rain':'Rain', 'Heavy snow':'Snow', 'Light rain shower':'Rain',\n",
    "       'Moderate rain':'Rain', 'Mist':'Cloudy', 'Patchy heavy snow':'Snow',\n",
    "       'Moderate or heavy rain shower':'Rain', 'Thundery outbreaks possible':'Storm',\n",
    "       'Patchy light rain with thunder':'Rain', 'Torrential rain shower':'Rain',\n",
    "       'Light snow':'Snow', 'Heavy rain at times':'Rain', 'Moderate rain at times':'Rain',\n",
    "       'Patchy moderate snow':'Snow', 'Light sleet':'Snow', 'Moderate or heavy sleet':'Snow',\n",
    "       'Light snow showers':'Snow', 'Moderate or heavy snow showers':'Rain',\n",
    "       'Light freezing rain':'Storm', 'Moderate or heavy rain with thunder':'Rain',\n",
    "       'Patchy snow possible':'Snow', 'Moderate or heavy freezing rain':'Rain',\n",
    "       'Freezing fog':'Cloudy'\n",
    "}\n",
    "\n",
    "for word in weather_dict.keys():\n",
    "    df_weather.loc[df_weather['desc_day'].str.contains(word, na=False), \n",
    "                   ['weather_desc']] = weather_dict[word]"
   ]
  },
  {
   "cell_type": "markdown",
   "metadata": {},
   "source": [
    "### Drop un-needed weather data"
   ]
  },
  {
   "cell_type": "code",
   "execution_count": 194,
   "metadata": {},
   "outputs": [],
   "source": [
    "df_weather.drop(['temp_night_list', 'speed_night', 'desc_night', 'desc_day'], axis=1, inplace=True)"
   ]
  },
  {
   "cell_type": "code",
   "execution_count": null,
   "metadata": {},
   "outputs": [],
   "source": []
  },
  {
   "cell_type": "code",
   "execution_count": 195,
   "metadata": {},
   "outputs": [
    {
     "data": {
      "text/html": [
       "<div>\n",
       "<style scoped>\n",
       "    .dataframe tbody tr th:only-of-type {\n",
       "        vertical-align: middle;\n",
       "    }\n",
       "\n",
       "    .dataframe tbody tr th {\n",
       "        vertical-align: top;\n",
       "    }\n",
       "\n",
       "    .dataframe thead th {\n",
       "        text-align: right;\n",
       "    }\n",
       "</style>\n",
       "<table border=\"1\" class=\"dataframe\">\n",
       "  <thead>\n",
       "    <tr style=\"text-align: right;\">\n",
       "      <th></th>\n",
       "      <th>fl_date</th>\n",
       "      <th>temp_day_list</th>\n",
       "      <th>speed_day</th>\n",
       "      <th>origin_city_name</th>\n",
       "      <th>weather_desc</th>\n",
       "    </tr>\n",
       "  </thead>\n",
       "  <tbody>\n",
       "    <tr>\n",
       "      <th>0</th>\n",
       "      <td>2018-01-01</td>\n",
       "      <td>-17</td>\n",
       "      <td>15</td>\n",
       "      <td>Chicago, IL</td>\n",
       "      <td>Snow</td>\n",
       "    </tr>\n",
       "    <tr>\n",
       "      <th>1</th>\n",
       "      <td>2018-01-02</td>\n",
       "      <td>-14</td>\n",
       "      <td>19</td>\n",
       "      <td>Chicago, IL</td>\n",
       "      <td>Cloudy</td>\n",
       "    </tr>\n",
       "    <tr>\n",
       "      <th>2</th>\n",
       "      <td>2018-01-03</td>\n",
       "      <td>-9</td>\n",
       "      <td>19</td>\n",
       "      <td>Chicago, IL</td>\n",
       "      <td>Snow</td>\n",
       "    </tr>\n",
       "    <tr>\n",
       "      <th>3</th>\n",
       "      <td>2018-01-04</td>\n",
       "      <td>-12</td>\n",
       "      <td>18</td>\n",
       "      <td>Chicago, IL</td>\n",
       "      <td>Sunny</td>\n",
       "    </tr>\n",
       "    <tr>\n",
       "      <th>4</th>\n",
       "      <td>2018-01-05</td>\n",
       "      <td>-13</td>\n",
       "      <td>18</td>\n",
       "      <td>Chicago, IL</td>\n",
       "      <td>Sunny</td>\n",
       "    </tr>\n",
       "    <tr>\n",
       "      <th>...</th>\n",
       "      <td>...</td>\n",
       "      <td>...</td>\n",
       "      <td>...</td>\n",
       "      <td>...</td>\n",
       "      <td>...</td>\n",
       "    </tr>\n",
       "    <tr>\n",
       "      <th>27355</th>\n",
       "      <td>2020-06-26</td>\n",
       "      <td>28</td>\n",
       "      <td>22</td>\n",
       "      <td>Dallas/Fort Worth, TX</td>\n",
       "      <td>Cloudy</td>\n",
       "    </tr>\n",
       "    <tr>\n",
       "      <th>27356</th>\n",
       "      <td>2020-06-27</td>\n",
       "      <td>31</td>\n",
       "      <td>23</td>\n",
       "      <td>Dallas/Fort Worth, TX</td>\n",
       "      <td>Cloudy</td>\n",
       "    </tr>\n",
       "    <tr>\n",
       "      <th>27357</th>\n",
       "      <td>2020-06-28</td>\n",
       "      <td>31</td>\n",
       "      <td>28</td>\n",
       "      <td>Dallas/Fort Worth, TX</td>\n",
       "      <td>Cloudy</td>\n",
       "    </tr>\n",
       "    <tr>\n",
       "      <th>27358</th>\n",
       "      <td>2020-06-29</td>\n",
       "      <td>31</td>\n",
       "      <td>30</td>\n",
       "      <td>Dallas/Fort Worth, TX</td>\n",
       "      <td>Storm</td>\n",
       "    </tr>\n",
       "    <tr>\n",
       "      <th>27359</th>\n",
       "      <td>2020-06-30</td>\n",
       "      <td>32</td>\n",
       "      <td>23</td>\n",
       "      <td>Dallas/Fort Worth, TX</td>\n",
       "      <td>Cloudy</td>\n",
       "    </tr>\n",
       "  </tbody>\n",
       "</table>\n",
       "<p>27360 rows × 5 columns</p>\n",
       "</div>"
      ],
      "text/plain": [
       "          fl_date  temp_day_list  speed_day       origin_city_name  \\\n",
       "0      2018-01-01            -17         15            Chicago, IL   \n",
       "1      2018-01-02            -14         19            Chicago, IL   \n",
       "2      2018-01-03             -9         19            Chicago, IL   \n",
       "3      2018-01-04            -12         18            Chicago, IL   \n",
       "4      2018-01-05            -13         18            Chicago, IL   \n",
       "...           ...            ...        ...                    ...   \n",
       "27355  2020-06-26             28         22  Dallas/Fort Worth, TX   \n",
       "27356  2020-06-27             31         23  Dallas/Fort Worth, TX   \n",
       "27357  2020-06-28             31         28  Dallas/Fort Worth, TX   \n",
       "27358  2020-06-29             31         30  Dallas/Fort Worth, TX   \n",
       "27359  2020-06-30             32         23  Dallas/Fort Worth, TX   \n",
       "\n",
       "      weather_desc  \n",
       "0             Snow  \n",
       "1           Cloudy  \n",
       "2             Snow  \n",
       "3            Sunny  \n",
       "4            Sunny  \n",
       "...            ...  \n",
       "27355       Cloudy  \n",
       "27356       Cloudy  \n",
       "27357       Cloudy  \n",
       "27358        Storm  \n",
       "27359       Cloudy  \n",
       "\n",
       "[27360 rows x 5 columns]"
      ]
     },
     "execution_count": 195,
     "metadata": {},
     "output_type": "execute_result"
    }
   ],
   "source": [
    "df_weather"
   ]
  },
  {
   "cell_type": "markdown",
   "metadata": {},
   "source": [
    "### Rename Columns"
   ]
  },
  {
   "cell_type": "code",
   "execution_count": 196,
   "metadata": {},
   "outputs": [],
   "source": [
    "df_weather.rename(columns={\"speed_day\": \"wind_speed\", \"temp_day_list\": \"temp\"}, inplace=True)"
   ]
  },
  {
   "cell_type": "code",
   "execution_count": null,
   "metadata": {},
   "outputs": [],
   "source": []
  },
  {
   "cell_type": "markdown",
   "metadata": {},
   "source": [
    "### Merge flights_test and weather dataframe - based on fl_date and origin city"
   ]
  },
  {
   "cell_type": "code",
   "execution_count": 197,
   "metadata": {},
   "outputs": [],
   "source": [
    "X = pd.merge(df, df_weather, how='left', on=['fl_date','origin_city_name'])"
   ]
  },
  {
   "cell_type": "code",
   "execution_count": 198,
   "metadata": {},
   "outputs": [
    {
     "data": {
      "text/plain": [
       "(31476, 29)"
      ]
     },
     "execution_count": 198,
     "metadata": {},
     "output_type": "execute_result"
    }
   ],
   "source": [
    "X.shape"
   ]
  },
  {
   "cell_type": "markdown",
   "metadata": {},
   "source": [
    "### Add 'Day of the week' column"
   ]
  },
  {
   "cell_type": "code",
   "execution_count": 199,
   "metadata": {},
   "outputs": [],
   "source": [
    "X['fl_date'] = pd.to_datetime(X['fl_date'])"
   ]
  },
  {
   "cell_type": "code",
   "execution_count": 200,
   "metadata": {},
   "outputs": [],
   "source": [
    "X['day_of_week'] = X['fl_date'].dt.day_name()"
   ]
  },
  {
   "cell_type": "code",
   "execution_count": 201,
   "metadata": {},
   "outputs": [
    {
     "data": {
      "text/plain": [
       "(31476, 30)"
      ]
     },
     "execution_count": 201,
     "metadata": {},
     "output_type": "execute_result"
    }
   ],
   "source": [
    "X.shape"
   ]
  },
  {
   "cell_type": "code",
   "execution_count": null,
   "metadata": {},
   "outputs": [],
   "source": []
  },
  {
   "cell_type": "markdown",
   "metadata": {},
   "source": [
    "### Looking for Null Values"
   ]
  },
  {
   "cell_type": "code",
   "execution_count": 202,
   "metadata": {},
   "outputs": [
    {
     "data": {
      "text/plain": [
       "fl_date                         0\n",
       "mkt_unique_carrier              0\n",
       "branded_code_share              0\n",
       "mkt_carrier                     0\n",
       "mkt_carrier_fl_num              0\n",
       "op_unique_carrier               0\n",
       "tail_num                      100\n",
       "op_carrier_fl_num               0\n",
       "origin_airport_id               0\n",
       "origin                          0\n",
       "origin_city_name                0\n",
       "dest_airport_id                 0\n",
       "dest                            0\n",
       "dest_city_name                  0\n",
       "crs_dep_time                    0\n",
       "crs_arr_time                    0\n",
       "dup                             0\n",
       "crs_elapsed_time                0\n",
       "flights                         0\n",
       "distance                        0\n",
       "avg_carrier_delays              0\n",
       "avg_weather_delays              0\n",
       "avg_nas_delays                  0\n",
       "avg_security_delays             0\n",
       "avg_late_aircraft_delays        0\n",
       "avg_dep_delays                  0\n",
       "temp                        10380\n",
       "wind_speed                  10380\n",
       "weather_desc                10380\n",
       "day_of_week                     0\n",
       "dtype: int64"
      ]
     },
     "execution_count": 202,
     "metadata": {},
     "output_type": "execute_result"
    }
   ],
   "source": [
    "X.isnull().sum()"
   ]
  },
  {
   "cell_type": "markdown",
   "metadata": {},
   "source": [
    "### Drop empty rows"
   ]
  },
  {
   "cell_type": "code",
   "execution_count": 204,
   "metadata": {},
   "outputs": [],
   "source": [
    "X['temp'] = X['temp'].fillna('none')\n",
    "X['wind_speed'] = X['wind_speed'].fillna('none')\n",
    "X['weather_desc'] = X['weather_desc'].fillna('none')\n",
    "\n",
    "for index, row in X.iterrows():   # drop rows missing weather data\n",
    "    if row['temp'] == 'none':\n",
    "        X.drop(index=index, inplace=True)"
   ]
  },
  {
   "cell_type": "code",
   "execution_count": null,
   "metadata": {},
   "outputs": [],
   "source": [
    "for index, row in X.iterrows():   # drop empty rows\n",
    "    if row['wind_speed'] == 'none':\n",
    "        X.drop(index=index, inplace=True)"
   ]
  },
  {
   "cell_type": "code",
   "execution_count": 206,
   "metadata": {},
   "outputs": [],
   "source": [
    "for index, row in X.iterrows():   # drop empty rows\n",
    "    if row['weather_desc'] == 'none':\n",
    "        X.drop(index=index, inplace=True)"
   ]
  },
  {
   "cell_type": "code",
   "execution_count": 223,
   "metadata": {},
   "outputs": [
    {
     "data": {
      "text/plain": [
       "(21096, 31)"
      ]
     },
     "execution_count": 223,
     "metadata": {},
     "output_type": "execute_result"
    }
   ],
   "source": [
    "X.shape"
   ]
  },
  {
   "cell_type": "code",
   "execution_count": 209,
   "metadata": {},
   "outputs": [],
   "source": [
    "X.to_csv('flights_test_data.csv', index=False)"
   ]
  },
  {
   "cell_type": "code",
   "execution_count": 211,
   "metadata": {},
   "outputs": [
    {
     "data": {
      "text/plain": [
       "fl_date                     datetime64[ns]\n",
       "mkt_unique_carrier                  object\n",
       "branded_code_share                  object\n",
       "mkt_carrier                         object\n",
       "mkt_carrier_fl_num                   int64\n",
       "op_unique_carrier                   object\n",
       "tail_num                            object\n",
       "op_carrier_fl_num                    int64\n",
       "origin_airport_id                    int64\n",
       "origin                              object\n",
       "origin_city_name                    object\n",
       "dest_airport_id                      int64\n",
       "dest                                object\n",
       "dest_city_name                      object\n",
       "crs_dep_time                         int64\n",
       "crs_arr_time                         int64\n",
       "dup                                 object\n",
       "crs_elapsed_time                     int64\n",
       "flights                              int64\n",
       "distance                             int64\n",
       "avg_carrier_delays                 float64\n",
       "avg_weather_delays                 float64\n",
       "avg_nas_delays                     float64\n",
       "avg_security_delays                float64\n",
       "avg_late_aircraft_delays           float64\n",
       "avg_dep_delays                     float64\n",
       "temp                                object\n",
       "wind_speed                          object\n",
       "weather_desc                        object\n",
       "day_of_week                         object\n",
       "dtype: object"
      ]
     },
     "execution_count": 211,
     "metadata": {},
     "output_type": "execute_result"
    }
   ],
   "source": [
    "X.dtypes"
   ]
  },
  {
   "cell_type": "code",
   "execution_count": 212,
   "metadata": {},
   "outputs": [],
   "source": [
    "X['tail_num'] = X['tail_num'].fillna(0)"
   ]
  },
  {
   "cell_type": "code",
   "execution_count": 216,
   "metadata": {},
   "outputs": [
    {
     "data": {
      "text/plain": [
       "Index(['fl_date', 'mkt_unique_carrier', 'branded_code_share', 'mkt_carrier',\n",
       "       'mkt_carrier_fl_num', 'op_unique_carrier', 'tail_num',\n",
       "       'op_carrier_fl_num', 'origin_airport_id', 'origin', 'origin_city_name',\n",
       "       'dest_airport_id', 'dest', 'dest_city_name', 'crs_dep_time',\n",
       "       'crs_arr_time', 'dup', 'crs_elapsed_time', 'flights', 'distance',\n",
       "       'avg_carrier_delays', 'avg_weather_delays', 'avg_nas_delays',\n",
       "       'avg_security_delays', 'avg_late_aircraft_delays', 'avg_dep_delays',\n",
       "       'temp', 'wind_speed', 'weather_desc', 'day_of_week'],\n",
       "      dtype='object')"
      ]
     },
     "execution_count": 216,
     "metadata": {},
     "output_type": "execute_result"
    }
   ],
   "source": [
    "X.columns"
   ]
  },
  {
   "cell_type": "markdown",
   "metadata": {},
   "source": [
    "### Add Carrier Names"
   ]
  },
  {
   "cell_type": "code",
   "execution_count": 218,
   "metadata": {},
   "outputs": [],
   "source": [
    "X['carrier_name'] = ''\n",
    "\n",
    "my_dict ={\n",
    "    'UA':'United Airlines',\n",
    "    'PT':'Piedmont Airlines',\n",
    "    'G7':'Lindbergh Airlines',\n",
    "    'CP':'Compass Airlines',\n",
    "    'QX':'Horizon Airlines',\n",
    "    'AX':'Trans States Airlines',\n",
    "    'ZW':'Air Wisconsin',\n",
    "    'C5':'CommutAir',\n",
    "    'EM':'Anderson Aviation',\n",
    "    'KS':'Peninsula Airways',\n",
    "    'AS':'Alaska Airlines',\n",
    "    '9E':'Endeavor Air',\n",
    "    'B6':'JetBlue Airways',\n",
    "    'EV':'ExpressJet',\n",
    "    'F9':'Frontier Airlines',\n",
    "    'G4':'Allegiant Air',\n",
    "    'HA':'Hawaiian Airlines',\n",
    "    'MQ':'Envoy Air',\n",
    "    'NK':'Spirit Airlines',\n",
    "    'OH':'PSA Airlines',\n",
    "    'OO':'SkyWest Airlines',\n",
    "    'VX':'Virgin America',\n",
    "    'WN':'Southwest Airlines',\n",
    "    'YV':'Mesa Airline',\n",
    "    'YX':'Republic Airways',\n",
    "    'AA':'American Airlines',\n",
    "    'DL':'Delta Airlines'\n",
    "}\n",
    "\n",
    "for word in my_dict.keys():\n",
    "    X.loc[X['op_unique_carrier'].str.contains(word, na=False), \n",
    "                   ['carrier_name']] = my_dict[word]"
   ]
  },
  {
   "cell_type": "markdown",
   "metadata": {},
   "source": [
    "### Separate Coninuous and Categorical data for scaling"
   ]
  },
  {
   "cell_type": "code",
   "execution_count": 219,
   "metadata": {},
   "outputs": [],
   "source": [
    "X_continuous = X.loc[:, ['temp', 'wind_speed', 'avg_carrier_delays', 'avg_weather_delays', 'avg_nas_delays', \n",
    "                                     'avg_security_delays', 'avg_late_aircraft_delays', 'avg_dep_delays']]\n",
    "\n",
    "X_categorical = X.loc[:, ['origin_city_name', 'carrier_name', 'weather_desc', 'day_of_week']]"
   ]
  },
  {
   "cell_type": "markdown",
   "metadata": {},
   "source": [
    "### Scale Data"
   ]
  },
  {
   "cell_type": "code",
   "execution_count": 220,
   "metadata": {},
   "outputs": [],
   "source": [
    "scaler = StandardScaler()\n",
    "scaler.fit(X_continuous)\n",
    "scaled_df = scaler.transform(X_continuous)"
   ]
  },
  {
   "cell_type": "code",
   "execution_count": 221,
   "metadata": {},
   "outputs": [],
   "source": [
    "X_df = pd.DataFrame(scaled_df)\n",
    "\n",
    "X_df.columns = ['temp', 'wind_speed', 'avg_carrier_delays', 'avg_weather_delays', 'avg_nas_delays', \n",
    "                                     'avg_security_delays', 'avg_late_aircraft_delays', 'avg_dep_delays']"
   ]
  },
  {
   "cell_type": "code",
   "execution_count": 222,
   "metadata": {},
   "outputs": [
    {
     "data": {
      "text/plain": [
       "(21096, 8)"
      ]
     },
     "execution_count": 222,
     "metadata": {},
     "output_type": "execute_result"
    }
   ],
   "source": [
    "X_df.shape"
   ]
  },
  {
   "cell_type": "markdown",
   "metadata": {},
   "source": [
    "### Joining coninuous and categorical variables"
   ]
  },
  {
   "cell_type": "code",
   "execution_count": 224,
   "metadata": {},
   "outputs": [],
   "source": [
    "X_categorical.insert(0, 'New_ID', range(0, 0 + len(X_categorical)))\n",
    "X_df.insert(0, 'New_ID', range(0, 0 + len(X_df)))"
   ]
  },
  {
   "cell_type": "code",
   "execution_count": 225,
   "metadata": {},
   "outputs": [],
   "source": [
    "df_final = pd.merge(X_categorical, X_df, how='inner', on='New_ID')"
   ]
  },
  {
   "cell_type": "code",
   "execution_count": 229,
   "metadata": {},
   "outputs": [],
   "source": [
    "df_final.drop(['New_ID'], axis=1, inplace=True)"
   ]
  },
  {
   "cell_type": "code",
   "execution_count": 230,
   "metadata": {},
   "outputs": [
    {
     "data": {
      "text/plain": [
       "(21096, 12)"
      ]
     },
     "execution_count": 230,
     "metadata": {},
     "output_type": "execute_result"
    }
   ],
   "source": [
    "df_final.shape"
   ]
  },
  {
   "cell_type": "markdown",
   "metadata": {},
   "source": [
    "### One Hot Encoding categorical variables"
   ]
  },
  {
   "cell_type": "code",
   "execution_count": 231,
   "metadata": {},
   "outputs": [],
   "source": [
    "X = pd.get_dummies(df_final)"
   ]
  },
  {
   "cell_type": "code",
   "execution_count": 232,
   "metadata": {},
   "outputs": [
    {
     "data": {
      "text/plain": [
       "(21096, 75)"
      ]
     },
     "execution_count": 232,
     "metadata": {},
     "output_type": "execute_result"
    }
   ],
   "source": [
    "X.shape"
   ]
  },
  {
   "cell_type": "code",
   "execution_count": 235,
   "metadata": {},
   "outputs": [],
   "source": [
    "X.to_csv('flights_test_submission.csv')"
   ]
  },
  {
   "cell_type": "code",
   "execution_count": 236,
   "metadata": {},
   "outputs": [
    {
     "data": {
      "text/plain": [
       "Index(['temp', 'wind_speed', 'avg_carrier_delays', 'avg_weather_delays',\n",
       "       'avg_nas_delays', 'avg_security_delays', 'avg_late_aircraft_delays',\n",
       "       'avg_dep_delays', 'origin_city_name_Atlanta, GA',\n",
       "       'origin_city_name_Baltimore, MD', 'origin_city_name_Boston, MA',\n",
       "       'origin_city_name_Charlotte, NC', 'origin_city_name_Chicago, IL',\n",
       "       'origin_city_name_Dallas, TX', 'origin_city_name_Dallas/Fort Worth, TX',\n",
       "       'origin_city_name_Denver, CO', 'origin_city_name_Detroit, MI',\n",
       "       'origin_city_name_Fort Lauderdale, FL', 'origin_city_name_Houston, TX',\n",
       "       'origin_city_name_Las Vegas, NV', 'origin_city_name_Los Angeles, CA',\n",
       "       'origin_city_name_Miami, FL', 'origin_city_name_Minneapolis, MN',\n",
       "       'origin_city_name_New Orleans, LA', 'origin_city_name_New York, NY',\n",
       "       'origin_city_name_Newark, NJ', 'origin_city_name_Orlando, FL',\n",
       "       'origin_city_name_Philadelphia, PA', 'origin_city_name_Phoenix, AZ',\n",
       "       'origin_city_name_Portland, OR', 'origin_city_name_Raleigh/Durham, NC',\n",
       "       'origin_city_name_Salt Lake City, UT', 'origin_city_name_San Diego, CA',\n",
       "       'origin_city_name_San Francisco, CA', 'origin_city_name_San Jose, CA',\n",
       "       'origin_city_name_Seattle, WA', 'origin_city_name_St. Louis, MO',\n",
       "       'origin_city_name_Washington, DC', 'carrier_name_Air Wisconsin',\n",
       "       'carrier_name_Alaska Airlines', 'carrier_name_Allegiant Air',\n",
       "       'carrier_name_American Airlines', 'carrier_name_CommutAir',\n",
       "       'carrier_name_Compass Airlines', 'carrier_name_Delta Airlines',\n",
       "       'carrier_name_Endeavor Air', 'carrier_name_Envoy Air',\n",
       "       'carrier_name_ExpressJet', 'carrier_name_Frontier Airlines',\n",
       "       'carrier_name_Hawaiian Airlines', 'carrier_name_Horizon Airlines',\n",
       "       'carrier_name_JetBlue Airways', 'carrier_name_Lindbergh Airlines',\n",
       "       'carrier_name_Mesa Airline', 'carrier_name_PSA Airlines',\n",
       "       'carrier_name_Piedmont Airlines', 'carrier_name_Republic Airways',\n",
       "       'carrier_name_SkyWest Airlines', 'carrier_name_Southwest Airlines',\n",
       "       'carrier_name_Spirit Airlines', 'carrier_name_Trans States Airlines',\n",
       "       'carrier_name_United Airlines', 'weather_desc_', 'weather_desc_Cloudy',\n",
       "       'weather_desc_Rain', 'weather_desc_Snow', 'weather_desc_Storm',\n",
       "       'weather_desc_Sunny', 'day_of_week_Friday', 'day_of_week_Monday',\n",
       "       'day_of_week_Saturday', 'day_of_week_Sunday', 'day_of_week_Thursday',\n",
       "       'day_of_week_Tuesday', 'day_of_week_Wednesday'],\n",
       "      dtype='object')"
      ]
     },
     "execution_count": 236,
     "metadata": {},
     "output_type": "execute_result"
    }
   ],
   "source": [
    "X.columns"
   ]
  },
  {
   "cell_type": "code",
   "execution_count": null,
   "metadata": {},
   "outputs": [],
   "source": []
  }
 ],
 "metadata": {
  "kernelspec": {
   "display_name": "Python 3",
   "language": "python",
   "name": "python3"
  },
  "language_info": {
   "codemirror_mode": {
    "name": "ipython",
    "version": 3
   },
   "file_extension": ".py",
   "mimetype": "text/x-python",
   "name": "python",
   "nbconvert_exporter": "python",
   "pygments_lexer": "ipython3",
   "version": "3.8.5"
  }
 },
 "nbformat": 4,
 "nbformat_minor": 4
}
