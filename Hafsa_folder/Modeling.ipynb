{
 "cells": [
  {
   "cell_type": "code",
   "execution_count": 20,
   "metadata": {},
   "outputs": [],
   "source": [
    "import pandas as pd\n",
    "import numpy as np\n",
    "from sklearn.preprocessing import StandardScaler\n",
    "from sklearn import linear_model, datasets\n",
    "from sklearn.model_selection import GridSearchCV\n",
    "from sklearn.linear_model import LogisticRegression\n",
    "from sklearn.model_selection import KFold\n",
    "from sklearn.decomposition import PCA\n",
    "import matplotlib.pyplot as plt\n",
    "import seaborn as sns; sns.set()\n",
    "from sklearn.model_selection import train_test_split"
   ]
  },
  {
   "cell_type": "code",
   "execution_count": 21,
   "metadata": {},
   "outputs": [],
   "source": [
    "df = pd.read_csv('df_filtered.csv')"
   ]
  },
  {
   "cell_type": "code",
   "execution_count": null,
   "metadata": {},
   "outputs": [],
   "source": []
  },
  {
   "cell_type": "code",
   "execution_count": 28,
   "metadata": {},
   "outputs": [
    {
     "data": {
      "text/plain": [
       "{'carrier_delay': [3.727365467992859,\n",
       "  3.8649281176863926,\n",
       "  1.7425742574257426,\n",
       "  4.975285171102661,\n",
       "  2.802919708029197,\n",
       "  3.761437908496732,\n",
       "  4.858203916272789,\n",
       "  10.87032967032967,\n",
       "  8.091286307053942,\n",
       "  3.2358490566037736,\n",
       "  3.2622739018087854,\n",
       "  9.703703703703704,\n",
       "  4.564059339177343,\n",
       "  3.3344947735191637,\n",
       "  1.847457627118644,\n",
       "  3.289568345323741,\n",
       "  6.3875,\n",
       "  2.65625,\n",
       "  5.428360413589365,\n",
       "  3.723849372384937,\n",
       "  3.430513595166163,\n",
       "  7.009685230024213,\n",
       "  1.6338028169014085,\n",
       "  4.96039603960396,\n",
       "  nan,\n",
       "  nan,\n",
       "  0.0],\n",
       " 'weather_delay': [0.19459321601632237,\n",
       "  0.6084921430959546,\n",
       "  0.7564356435643564,\n",
       "  0.10836501901140684,\n",
       "  0.42700729927007297,\n",
       "  0.6606753812636166,\n",
       "  1.1201890614449697,\n",
       "  0.18021978021978022,\n",
       "  0.966804979253112,\n",
       "  0.6446540880503144,\n",
       "  0.3733850129198966,\n",
       "  0.0,\n",
       "  0.5906945380984491,\n",
       "  0.11498257839721254,\n",
       "  0.19322033898305085,\n",
       "  0.5755395683453237,\n",
       "  4.129166666666666,\n",
       "  0.0,\n",
       "  0.2895125553914328,\n",
       "  1.1192468619246863,\n",
       "  0.30966767371601206,\n",
       "  0.2687651331719128,\n",
       "  0.176056338028169,\n",
       "  4.693069306930693,\n",
       "  nan,\n",
       "  nan,\n",
       "  0.0],\n",
       " 'nas_delay': [1.8834480999744962,\n",
       "  2.809762621196924,\n",
       "  4.330693069306931,\n",
       "  2.693916349809886,\n",
       "  4.321167883211679,\n",
       "  3.8649237472766886,\n",
       "  2.37272113436867,\n",
       "  3.024175824175824,\n",
       "  1.7593360995850622,\n",
       "  3.256289308176101,\n",
       "  3.5271317829457365,\n",
       "  1.4444444444444444,\n",
       "  3.4265003371544167,\n",
       "  1.2299651567944252,\n",
       "  1.464406779661017,\n",
       "  7.76978417266187,\n",
       "  3.2708333333333335,\n",
       "  0.0,\n",
       "  5.908419497784343,\n",
       "  2.192468619246862,\n",
       "  4.069486404833837,\n",
       "  3.154963680387409,\n",
       "  1.3943661971830985,\n",
       "  9.554455445544555,\n",
       "  nan,\n",
       "  nan,\n",
       "  0.75],\n",
       " 'security_delay': [0.015302218821729151,\n",
       "  0.0,\n",
       "  0.0,\n",
       "  0.0,\n",
       "  0.0,\n",
       "  0.009259259259259259,\n",
       "  0.0,\n",
       "  0.0,\n",
       "  0.0,\n",
       "  0.031446540880503145,\n",
       "  0.0,\n",
       "  0.5802469135802469,\n",
       "  0.01921780175320297,\n",
       "  0.0,\n",
       "  0.0,\n",
       "  0.0,\n",
       "  0.0,\n",
       "  0.0,\n",
       "  0.0103397341211226,\n",
       "  0.0,\n",
       "  0.1540785498489426,\n",
       "  0.0,\n",
       "  0.0,\n",
       "  0.0,\n",
       "  nan,\n",
       "  nan,\n",
       "  0.0],\n",
       " 'late_aircraft_delay': [4.490946187197143,\n",
       "  2.885322634570378,\n",
       "  3.6653465346534655,\n",
       "  8.260456273764259,\n",
       "  5.142335766423358,\n",
       "  6.215686274509804,\n",
       "  5.638082376772451,\n",
       "  5.367032967032967,\n",
       "  5.668049792531121,\n",
       "  4.897798742138365,\n",
       "  4.640826873385013,\n",
       "  2.197530864197531,\n",
       "  5.848617666891436,\n",
       "  3.9686411149825784,\n",
       "  1.5728813559322035,\n",
       "  3.264388489208633,\n",
       "  13.533333333333333,\n",
       "  0.0,\n",
       "  7.327917282127031,\n",
       "  6.688284518828452,\n",
       "  3.8716012084592144,\n",
       "  8.467312348668282,\n",
       "  4.47887323943662,\n",
       "  15.574257425742575,\n",
       "  nan,\n",
       "  nan,\n",
       "  10.75],\n",
       " 'dep_delay': [11.87554195358327,\n",
       "  8.658308258107656,\n",
       "  4.9504950495049505,\n",
       "  13.098859315589353,\n",
       "  7.390510948905109,\n",
       "  11.708605664488017,\n",
       "  10.525995948683322,\n",
       "  16.334065934065933,\n",
       "  14.282157676348548,\n",
       "  7.570754716981132,\n",
       "  7.760981912144703,\n",
       "  11.765432098765432,\n",
       "  12.260283209710048,\n",
       "  5.7282229965156795,\n",
       "  1.806779661016949,\n",
       "  12.226618705035971,\n",
       "  22.5375,\n",
       "  -0.875,\n",
       "  16.04431314623338,\n",
       "  10.828451882845188,\n",
       "  7.329305135951661,\n",
       "  17.406779661016948,\n",
       "  3.2816901408450705,\n",
       "  28.06930693069307,\n",
       "  nan,\n",
       "  nan,\n",
       "  9.5]}"
      ]
     },
     "execution_count": 28,
     "metadata": {},
     "output_type": "execute_result"
    }
   ],
   "source": [
    "my_list = ['WN', 'DL', 'MQ', 'YV', 'PT', 'UA', 'OO', 'EV', 'G7', 'YX', '9E',\n",
    "       'G4', 'AA', 'CP', 'QX', 'NK', 'AX', 'HA', 'B6', 'OH', 'AS', 'F9',\n",
    "       'ZW', 'C5', 'EM', 'KS', 'VX']\n",
    "\n",
    "my_dict = {'carrier_delay':[],\n",
    "           'weather_delay':[],\n",
    "           'nas_delay':[],\n",
    "           'security_delay':[],\n",
    "           'late_aircraft_delay':[],\n",
    "           'dep_delay': []\n",
    "           }\n",
    "\n",
    "for i in my_list:\n",
    "    df1 = df.loc[:, ['op_unique_carrier','dep_delay','carrier_delay', 'weather_delay', 'nas_delay', 'security_delay', 'late_aircraft_delay']]\n",
    "    df2 = df1[df1['op_unique_carrier'] == i].mean()\n",
    "    my_dict['dep_delay'].append(df2[0])\n",
    "    my_dict['carrier_delay'].append(df2[1])\n",
    "    my_dict['weather_delay'].append(df2[2])\n",
    "    my_dict['nas_delay'].append(df2[3])\n",
    "    my_dict['security_delay'].append(df2[4])\n",
    "    my_dict['late_aircraft_delay'].append(df2[5])\n",
    "    \n",
    "my_dict"
   ]
  },
  {
   "cell_type": "markdown",
   "metadata": {},
   "source": [
    "### Take out averages per carrier for different types of delays"
   ]
  },
  {
   "cell_type": "code",
   "execution_count": 31,
   "metadata": {},
   "outputs": [],
   "source": [
    "carrier_delay = {'WN': 3.727365467992859, 'DL': 3.8649281176863926, 'MQ': 1.7425742574257426, 'YV': 4.975285171102661, \n",
    "                'PT': 2.802919708029197, 'UA': 3.761437908496732, 'OO': 4.858203916272789, 'EV': 10.87032967032967, \n",
    "                'G7': 8.091286307053942, 'YX': 3.2358490566037736, '9E': 3.2622739018087854, 'G4': 9.703703703703704, \n",
    "                'AA': 4.564059339177343, 'CP': 3.3344947735191637, 'QX': 1.847457627118644, 'NK': 3.289568345323741, \n",
    "                'AX': 6.3875, 'HA': 2.65625, 'B6': 5.428360413589365, 'OH': 3.723849372384937, 'AS': 3.430513595166163,\n",
    "                'F9': 7.009685230024213, 'ZW': 3.430513595166163, 'C5': 4.96039603960396, 'EM': 0, 'KS': 0, 'VX': 0.0}\n",
    "\n",
    "\n",
    "\n",
    "weather_delay = {'WN': 0.19459321601632237, 'DL': 0.6084921430959546, 'MQ': 0.7564356435643564, 'YV': 0.10836501901140684,\n",
    "               'PT': 0.42700729927007297, 'UA': 0.6606753812636166, '00': 1.1201890614449697, 'EV':0.18021978021978022,\n",
    "               'G7': 0.966804979253112, 'YX': 0.6446540880503144, '9E': 0.3733850129198966, 'G4': 0.0,\n",
    "               'AA': 0.5906945380984491, 'CP': 0.11498257839721254, 'QX': 0.19322033898305085, 'NK': 0.5755395683453237,\n",
    "               'AX': 4.129166666666666, 'HA': 0.0, 'B6': 0.2895125553914328, 'OH': 1.1192468619246863, 'AS': 0.30966767371601206,\n",
    "               'F9': 0.2687651331719128, 'ZW': 0.176056338028169, 'C5': 4.693069306930693, 'EM': 0, 'KS':0, 'VX':0.0}\n",
    "\n",
    "\n",
    "nas_delay = {'WN' :1.8834480999744962, 'DL': 2.809762621196924, 'MQ':4.330693069306931, 'YV':2.693916349809886,\n",
    "             'PT':4.321167883211679, 'UA':3.8649237472766886, '00':2.37272113436867, 'EV':3.024175824175824,\n",
    "             'G7':1.7593360995850622, 'YX':3.256289308176101, '9E':3.5271317829457365, 'G4':1.4444444444444444,\n",
    "             'AA':3.4265003371544167, 'CP':1.2299651567944252, 'QX':1.464406779661017, 'NK':7.76978417266187,\n",
    "             'AX': 3.2708333333333335, 'HA':0.0, 'B6': 5.908419497784343, 'OH': 2.192468619246862, 'AS':4.069486404833837,\n",
    "             'F9':3.154963680387409, 'ZW': 1.3943661971830985, 'C5':9.554455445544555, 'EM':0, 'KS':0, 'VX':0.75}\n",
    "\n",
    "\n",
    "security_delay = {'WN': 0.015302218821729151, 'DL': 0.0, 'MQ':0.0, 'YV':0.0,\n",
    "                  'PT': 0.0, 'UA': 0.009259259259259259, 'OO': 0.0, 'EV':0.0,\n",
    "                  'G7': 0.0, 'YX': 0.031446540880503145, '9E': 0.0, 'G4': 0.5802469135802469,\n",
    "                  'AA': 0.01921780175320297, 'CP': 0.0, 'QX': 0.0, 'NK': 0.0,\n",
    "                  'AX': 0.0, 'HA': 0.0, 'B6': 0.0103397341211226, 'OH':0.0, 'AS':0.1540785498489426,\n",
    "                  'F9': 0.0, 'ZW':0.0, 'C5':0.0, 'EM':0, 'KS': 0, 'VX':0.0}\n",
    "\n",
    "late_aircraft_delay = {'WN': 4.490946187197143, 'DL':2.885322634570378, 'MQ':3.6653465346534655, 'YV':8.260456273764259,\n",
    "                       'PT':5.142335766423358, 'UA':6.215686274509804, 'OO':5.638082376772451, 'EV':5.367032967032967,\n",
    "                       'G7':5.668049792531121, 'YX':4.897798742138365, '9E':4.640826873385013, 'G4':2.197530864197531,\n",
    "                       'AA':5.848617666891436, 'CP':3.9686411149825784, 'QX':1.5728813559322035, 'NK':3.264388489208633,\n",
    "                       'AX':13.533333333333333, 'HA':0.0, 'B6':7.327917282127031, 'OH':6.688284518828452, 'AS':3.8716012084592144,\n",
    "                       'F9':8.467312348668282, 'ZW':4.47887323943662, 'C5':15.574257425742575, 'EM':0, 'KS':0, 'VX':10.75}\n",
    "\n",
    "\n",
    "dep_delay = {'WN':11.87554195358327, 'DL':8.658308258107656, 'MQ':4.9504950495049505, 'YV':13.098859315589353,\n",
    "             'PT': 7.390510948905109, 'UA':11.708605664488017, 'OO':10.525995948683322, 'EV':16.334065934065933,\n",
    "             'G7': 14.282157676348548, 'YX': 7.570754716981132, '9E':7.760981912144703, 'G4':11.765432098765432,\n",
    "             'AA': 12.260283209710048, 'CP':5.7282229965156795, 'QX':1.806779661016949, 'NK':12.226618705035971,\n",
    "             'AX':22.5375, 'HA':-0.875, 'B6': 16.04431314623338, 'OH': 10.828451882845188, 'AS':7.329305135951661,\n",
    "             'F9': 17.406779661016948, 'ZW':3.2816901408450705, 'C5':28.06930693069307, 'EM':0, 'KS':0, 'VX':9.5}"
   ]
  },
  {
   "cell_type": "markdown",
   "metadata": {},
   "source": [
    "### Add different types of carrier delays in dataframe"
   ]
  },
  {
   "cell_type": "code",
   "execution_count": 34,
   "metadata": {},
   "outputs": [],
   "source": [
    "df['avg_carrier_delays'] = 0\n",
    "\n",
    "for word in carrier_delay.keys():\n",
    "    df.loc[df['op_unique_carrier'].str.contains(word, na=False), \n",
    "                   ['avg_carrier_delays']] = carrier_delay[word]"
   ]
  },
  {
   "cell_type": "code",
   "execution_count": 36,
   "metadata": {},
   "outputs": [],
   "source": [
    "df['avg_weather_delays'] = 0\n",
    "\n",
    "for word in weather_delay.keys():\n",
    "    df.loc[df['op_unique_carrier'].str.contains(word, na=False), \n",
    "                   ['avg_weather_delays']] = weather_delay[word]"
   ]
  },
  {
   "cell_type": "code",
   "execution_count": 37,
   "metadata": {},
   "outputs": [],
   "source": [
    "df['avg_nas_delays'] = 0\n",
    "\n",
    "for word in nas_delay.keys():\n",
    "    df.loc[df['op_unique_carrier'].str.contains(word, na=False), \n",
    "                   ['avg_nas_delays']] = nas_delay[word]"
   ]
  },
  {
   "cell_type": "code",
   "execution_count": 38,
   "metadata": {},
   "outputs": [],
   "source": [
    "df['avg_security_delays'] = 0\n",
    "\n",
    "for word in security_delay.keys():\n",
    "    df.loc[df['op_unique_carrier'].str.contains(word, na=False), \n",
    "                   ['avg_security_delays']] = security_delay[word]"
   ]
  },
  {
   "cell_type": "code",
   "execution_count": 39,
   "metadata": {},
   "outputs": [],
   "source": [
    "df['avg_late_aircraft_delays'] = 0\n",
    "\n",
    "for word in late_aircraft_delay.keys():\n",
    "    df.loc[df['op_unique_carrier'].str.contains(word, na=False), \n",
    "                   ['avg_late_aircraft_delays']] = late_aircraft_delay[word]"
   ]
  },
  {
   "cell_type": "code",
   "execution_count": 40,
   "metadata": {},
   "outputs": [],
   "source": [
    "df['avg_dep_delays'] = 0\n",
    "\n",
    "for word in dep_delay.keys():\n",
    "    df.loc[df['op_unique_carrier'].str.contains(word, na=False), \n",
    "                   ['avg_dep_delays']] = dep_delay[word]"
   ]
  },
  {
   "cell_type": "markdown",
   "metadata": {},
   "source": [
    "### Subset dataset for modeling"
   ]
  },
  {
   "cell_type": "code",
   "execution_count": 49,
   "metadata": {},
   "outputs": [],
   "source": [
    "df_filtered = df.loc[:, ['origin_city_name', 'arr_delay', 'carrier_name', 'delayed', 'temp_day_list', 'speed_day', 'weather_desc',\n",
    "                        'day_of_week', 'avg_carrier_delays', 'avg_weather_delays', 'avg_nas_delays', 'avg_security_delays', \n",
    "                         'avg_late_aircraft_delays', 'avg_dep_delays']]"
   ]
  },
  {
   "cell_type": "markdown",
   "metadata": {},
   "source": [
    "### Make X and y"
   ]
  },
  {
   "cell_type": "code",
   "execution_count": 393,
   "metadata": {},
   "outputs": [],
   "source": [
    "X = df_filtered.loc[:, ['origin_city_name', 'carrier_name', 'delayed', 'temp_day_list', 'speed_day', 'weather_desc',\n",
    "                        'day_of_week', 'avg_carrier_delays', 'avg_weather_delays', 'avg_nas_delays', 'avg_security_delays', \n",
    "                         'avg_late_aircraft_delays', 'avg_dep_delays']]\n",
    "\n",
    "X.rename(columns={\"speed_day\": \"wind_speed\", \"temp_day_list\": \"temp\"}, inplace=True)\n",
    "\n",
    "y = df_filtered.loc[:, ['arr_delay']]"
   ]
  },
  {
   "cell_type": "markdown",
   "metadata": {},
   "source": [
    "### Split the dataset"
   ]
  },
  {
   "cell_type": "code",
   "execution_count": 394,
   "metadata": {},
   "outputs": [],
   "source": [
    "X_train, X_test, y_train, y_test = train_test_split(X, y, test_size=0.3)"
   ]
  },
  {
   "cell_type": "markdown",
   "metadata": {},
   "source": [
    "### Separate Continuous and Categorical variables"
   ]
  },
  {
   "cell_type": "code",
   "execution_count": 395,
   "metadata": {},
   "outputs": [],
   "source": [
    "X_train_continuous = X_train.loc[:, ['temp', 'wind_speed', 'avg_carrier_delays', 'avg_weather_delays', 'avg_nas_delays', \n",
    "                                     'avg_security_delays', 'avg_late_aircraft_delays', 'avg_dep_delays']]\n",
    "\n",
    "X_train_categorical = X_train.loc[:, ['origin_city_name', 'carrier_name', 'delayed', 'weather_desc', 'day_of_week']]"
   ]
  },
  {
   "cell_type": "markdown",
   "metadata": {},
   "source": [
    "### Scale Continuous variables"
   ]
  },
  {
   "cell_type": "code",
   "execution_count": null,
   "metadata": {},
   "outputs": [],
   "source": []
  },
  {
   "cell_type": "code",
   "execution_count": null,
   "metadata": {},
   "outputs": [],
   "source": []
  },
  {
   "cell_type": "code",
   "execution_count": 396,
   "metadata": {},
   "outputs": [],
   "source": [
    "scaler = StandardScaler()\n",
    "scaler.fit(X_train_continuous)\n",
    "scaled_df = scaler.transform(X_train_continuous)"
   ]
  },
  {
   "cell_type": "code",
   "execution_count": 397,
   "metadata": {},
   "outputs": [
    {
     "name": "stdout",
     "output_type": "stream",
     "text": [
      "origin_city_name    0\n",
      "carrier_name        0\n",
      "delayed             0\n",
      "weather_desc        0\n",
      "day_of_week         0\n",
      "dtype: int64\n",
      "*********************************\n",
      "temp                        0\n",
      "wind_speed                  0\n",
      "avg_carrier_delays          0\n",
      "avg_weather_delays          0\n",
      "avg_nas_delays              0\n",
      "avg_security_delays         0\n",
      "avg_late_aircraft_delays    0\n",
      "avg_dep_delays              0\n",
      "dtype: int64\n",
      "*********************************\n",
      "(14401, 5)\n",
      "(14401, 8)\n"
     ]
    }
   ],
   "source": [
    "X_train_df = pd.DataFrame(scaled_df)\n",
    "\n",
    "X_train_df.columns = ['temp', 'wind_speed', 'avg_carrier_delays', 'avg_weather_delays', 'avg_nas_delays', \n",
    "                                     'avg_security_delays', 'avg_late_aircraft_delays', 'avg_dep_delays']\n",
    "\n",
    "print(X_train_categorical.isnull().sum())\n",
    "print('*********************************')\n",
    "print(X_train_df.isnull().sum())\n",
    "print('*********************************')\n",
    "print(X_train_categorical.shape)\n",
    "print(X_train_df.shape)"
   ]
  },
  {
   "cell_type": "markdown",
   "metadata": {},
   "source": [
    "### Join Continuous and Scaled variables"
   ]
  },
  {
   "cell_type": "code",
   "execution_count": 398,
   "metadata": {},
   "outputs": [],
   "source": [
    "X_train_categorical.insert(0, 'New_ID', range(0, 0 + len(X_train_categorical)))\n",
    "X_train_df.insert(0, 'New_ID', range(0, 0 + len(X_train_df)))"
   ]
  },
  {
   "cell_type": "code",
   "execution_count": 399,
   "metadata": {},
   "outputs": [
    {
     "name": "stdout",
     "output_type": "stream",
     "text": [
      "New_ID              0\n",
      "origin_city_name    0\n",
      "carrier_name        0\n",
      "delayed             0\n",
      "weather_desc        0\n",
      "day_of_week         0\n",
      "dtype: int64\n",
      "*********************************\n",
      "New_ID                      0\n",
      "temp                        0\n",
      "wind_speed                  0\n",
      "avg_carrier_delays          0\n",
      "avg_weather_delays          0\n",
      "avg_nas_delays              0\n",
      "avg_security_delays         0\n",
      "avg_late_aircraft_delays    0\n",
      "avg_dep_delays              0\n",
      "dtype: int64\n",
      "*********************************\n",
      "(14401, 6)\n",
      "(14401, 9)\n"
     ]
    }
   ],
   "source": [
    "print(X_train_categorical.isnull().sum())\n",
    "print('*********************************')\n",
    "print(X_train_df.isnull().sum())\n",
    "print('*********************************')\n",
    "print(X_train_categorical.shape)\n",
    "print(X_train_df.shape)"
   ]
  },
  {
   "cell_type": "code",
   "execution_count": 400,
   "metadata": {},
   "outputs": [],
   "source": [
    "df_final = pd.merge(X_train_categorical, X_train_df, how='inner', on='New_ID')"
   ]
  },
  {
   "cell_type": "code",
   "execution_count": 401,
   "metadata": {},
   "outputs": [],
   "source": [
    "df_final.drop(['New_ID'], axis=1, inplace=True)"
   ]
  },
  {
   "cell_type": "code",
   "execution_count": 402,
   "metadata": {},
   "outputs": [
    {
     "name": "stdout",
     "output_type": "stream",
     "text": [
      "origin_city_name            0\n",
      "carrier_name                0\n",
      "delayed                     0\n",
      "weather_desc                0\n",
      "day_of_week                 0\n",
      "temp                        0\n",
      "wind_speed                  0\n",
      "avg_carrier_delays          0\n",
      "avg_weather_delays          0\n",
      "avg_nas_delays              0\n",
      "avg_security_delays         0\n",
      "avg_late_aircraft_delays    0\n",
      "avg_dep_delays              0\n",
      "dtype: int64\n",
      "*********************************\n",
      "(14401, 13)\n"
     ]
    }
   ],
   "source": [
    "print(df_final.isnull().sum())\n",
    "print('*********************************')\n",
    "print(df_final.shape)"
   ]
  },
  {
   "cell_type": "code",
   "execution_count": 186,
   "metadata": {},
   "outputs": [
    {
     "data": {
      "text/html": [
       "<div>\n",
       "<style scoped>\n",
       "    .dataframe tbody tr th:only-of-type {\n",
       "        vertical-align: middle;\n",
       "    }\n",
       "\n",
       "    .dataframe tbody tr th {\n",
       "        vertical-align: top;\n",
       "    }\n",
       "\n",
       "    .dataframe thead th {\n",
       "        text-align: right;\n",
       "    }\n",
       "</style>\n",
       "<table border=\"1\" class=\"dataframe\">\n",
       "  <thead>\n",
       "    <tr style=\"text-align: right;\">\n",
       "      <th></th>\n",
       "      <th>origin_city_name</th>\n",
       "      <th>carrier_name</th>\n",
       "      <th>delayed</th>\n",
       "      <th>weather_desc</th>\n",
       "      <th>day_of_week</th>\n",
       "      <th>temp</th>\n",
       "      <th>wind_speed</th>\n",
       "      <th>avg_carrier_delays</th>\n",
       "      <th>avg_weather_delays</th>\n",
       "      <th>avg_nas_delays</th>\n",
       "      <th>avg_security_delays</th>\n",
       "      <th>avg_late_aircraft_delays</th>\n",
       "      <th>avg_dep_delays</th>\n",
       "    </tr>\n",
       "  </thead>\n",
       "  <tbody>\n",
       "    <tr>\n",
       "      <th>0</th>\n",
       "      <td>Las Vegas, NV</td>\n",
       "      <td>Southwest Airlines</td>\n",
       "      <td>1</td>\n",
       "      <td>Cloudy</td>\n",
       "      <td>Thursday</td>\n",
       "      <td>1.492808</td>\n",
       "      <td>1.682555</td>\n",
       "      <td>-0.339468</td>\n",
       "      <td>-0.533787</td>\n",
       "      <td>-0.701801</td>\n",
       "      <td>0.008946</td>\n",
       "      <td>-0.319400</td>\n",
       "      <td>0.272852</td>\n",
       "    </tr>\n",
       "    <tr>\n",
       "      <th>1</th>\n",
       "      <td>Atlanta, GA</td>\n",
       "      <td>Delta Airlines</td>\n",
       "      <td>0</td>\n",
       "      <td>Sunny</td>\n",
       "      <td>Sunday</td>\n",
       "      <td>-0.004823</td>\n",
       "      <td>0.751634</td>\n",
       "      <td>-0.244683</td>\n",
       "      <td>0.215476</td>\n",
       "      <td>-0.095992</td>\n",
       "      <td>-0.340177</td>\n",
       "      <td>-1.176244</td>\n",
       "      <td>-0.683355</td>\n",
       "    </tr>\n",
       "    <tr>\n",
       "      <th>2</th>\n",
       "      <td>Denver, CO</td>\n",
       "      <td>Southwest Airlines</td>\n",
       "      <td>0</td>\n",
       "      <td>Sunny</td>\n",
       "      <td>Friday</td>\n",
       "      <td>-1.408852</td>\n",
       "      <td>-0.644747</td>\n",
       "      <td>-0.339468</td>\n",
       "      <td>-0.533787</td>\n",
       "      <td>-0.701801</td>\n",
       "      <td>0.008946</td>\n",
       "      <td>-0.319400</td>\n",
       "      <td>0.272852</td>\n",
       "    </tr>\n",
       "    <tr>\n",
       "      <th>3</th>\n",
       "      <td>New York, NY</td>\n",
       "      <td>Republic Airways</td>\n",
       "      <td>0</td>\n",
       "      <td>Cloudy</td>\n",
       "      <td>Tuesday</td>\n",
       "      <td>-0.753638</td>\n",
       "      <td>-1.110208</td>\n",
       "      <td>-0.678135</td>\n",
       "      <td>0.280939</td>\n",
       "      <td>0.196036</td>\n",
       "      <td>0.377282</td>\n",
       "      <td>-0.102282</td>\n",
       "      <td>-1.006591</td>\n",
       "    </tr>\n",
       "    <tr>\n",
       "      <th>4</th>\n",
       "      <td>Minneapolis, MN</td>\n",
       "      <td>Delta Airlines</td>\n",
       "      <td>1</td>\n",
       "      <td>Sunny</td>\n",
       "      <td>Wednesday</td>\n",
       "      <td>0.556789</td>\n",
       "      <td>-0.334440</td>\n",
       "      <td>-0.244683</td>\n",
       "      <td>0.215476</td>\n",
       "      <td>-0.095992</td>\n",
       "      <td>-0.340177</td>\n",
       "      <td>-1.176244</td>\n",
       "      <td>-0.683355</td>\n",
       "    </tr>\n",
       "    <tr>\n",
       "      <th>...</th>\n",
       "      <td>...</td>\n",
       "      <td>...</td>\n",
       "      <td>...</td>\n",
       "      <td>...</td>\n",
       "      <td>...</td>\n",
       "      <td>...</td>\n",
       "      <td>...</td>\n",
       "      <td>...</td>\n",
       "      <td>...</td>\n",
       "      <td>...</td>\n",
       "      <td>...</td>\n",
       "      <td>...</td>\n",
       "      <td>...</td>\n",
       "    </tr>\n",
       "    <tr>\n",
       "      <th>14396</th>\n",
       "      <td>Baltimore, MD</td>\n",
       "      <td>Spirit Airlines</td>\n",
       "      <td>0</td>\n",
       "      <td>Cloudy</td>\n",
       "      <td>Friday</td>\n",
       "      <td>0.837595</td>\n",
       "      <td>-0.489594</td>\n",
       "      <td>-0.641121</td>\n",
       "      <td>0.155824</td>\n",
       "      <td>3.147859</td>\n",
       "      <td>-0.340177</td>\n",
       "      <td>-0.973955</td>\n",
       "      <td>0.377197</td>\n",
       "    </tr>\n",
       "    <tr>\n",
       "      <th>14397</th>\n",
       "      <td>Washington, DC</td>\n",
       "      <td>Frontier Airlines</td>\n",
       "      <td>1</td>\n",
       "      <td>Sunny</td>\n",
       "      <td>Wednesday</td>\n",
       "      <td>0.275983</td>\n",
       "      <td>0.441327</td>\n",
       "      <td>1.922137</td>\n",
       "      <td>-0.399517</td>\n",
       "      <td>0.129769</td>\n",
       "      <td>-0.340177</td>\n",
       "      <td>1.802595</td>\n",
       "      <td>1.916812</td>\n",
       "    </tr>\n",
       "    <tr>\n",
       "      <th>14398</th>\n",
       "      <td>Boston, MA</td>\n",
       "      <td>American Airlines</td>\n",
       "      <td>1</td>\n",
       "      <td>Sunny</td>\n",
       "      <td>Thursday</td>\n",
       "      <td>0.275983</td>\n",
       "      <td>0.906788</td>\n",
       "      <td>0.237036</td>\n",
       "      <td>0.183258</td>\n",
       "      <td>0.307354</td>\n",
       "      <td>0.098281</td>\n",
       "      <td>0.405124</td>\n",
       "      <td>0.387202</td>\n",
       "    </tr>\n",
       "    <tr>\n",
       "      <th>14399</th>\n",
       "      <td>Newark, NJ</td>\n",
       "      <td>CommutAir</td>\n",
       "      <td>1</td>\n",
       "      <td>Rain</td>\n",
       "      <td>Sunday</td>\n",
       "      <td>1.024798</td>\n",
       "      <td>0.131020</td>\n",
       "      <td>0.510123</td>\n",
       "      <td>7.609611</td>\n",
       "      <td>4.315033</td>\n",
       "      <td>-0.340177</td>\n",
       "      <td>5.595229</td>\n",
       "      <td>5.085863</td>\n",
       "    </tr>\n",
       "    <tr>\n",
       "      <th>14400</th>\n",
       "      <td>St. Louis, MO</td>\n",
       "      <td>Southwest Airlines</td>\n",
       "      <td>1</td>\n",
       "      <td>Sunny</td>\n",
       "      <td>Monday</td>\n",
       "      <td>0.556789</td>\n",
       "      <td>0.906788</td>\n",
       "      <td>-0.339468</td>\n",
       "      <td>-0.533787</td>\n",
       "      <td>-0.701801</td>\n",
       "      <td>0.008946</td>\n",
       "      <td>-0.319400</td>\n",
       "      <td>0.272852</td>\n",
       "    </tr>\n",
       "  </tbody>\n",
       "</table>\n",
       "<p>14401 rows × 13 columns</p>\n",
       "</div>"
      ],
      "text/plain": [
       "      origin_city_name        carrier_name  delayed weather_desc day_of_week  \\\n",
       "0        Las Vegas, NV  Southwest Airlines        1       Cloudy    Thursday   \n",
       "1          Atlanta, GA      Delta Airlines        0        Sunny      Sunday   \n",
       "2           Denver, CO  Southwest Airlines        0        Sunny      Friday   \n",
       "3         New York, NY    Republic Airways        0       Cloudy     Tuesday   \n",
       "4      Minneapolis, MN      Delta Airlines        1        Sunny   Wednesday   \n",
       "...                ...                 ...      ...          ...         ...   \n",
       "14396    Baltimore, MD     Spirit Airlines        0       Cloudy      Friday   \n",
       "14397   Washington, DC   Frontier Airlines        1        Sunny   Wednesday   \n",
       "14398       Boston, MA   American Airlines        1        Sunny    Thursday   \n",
       "14399       Newark, NJ           CommutAir        1         Rain      Sunday   \n",
       "14400    St. Louis, MO  Southwest Airlines        1        Sunny      Monday   \n",
       "\n",
       "           temp  wind_speed  avg_carrier_delays  avg_weather_delays  \\\n",
       "0      1.492808    1.682555           -0.339468           -0.533787   \n",
       "1     -0.004823    0.751634           -0.244683            0.215476   \n",
       "2     -1.408852   -0.644747           -0.339468           -0.533787   \n",
       "3     -0.753638   -1.110208           -0.678135            0.280939   \n",
       "4      0.556789   -0.334440           -0.244683            0.215476   \n",
       "...         ...         ...                 ...                 ...   \n",
       "14396  0.837595   -0.489594           -0.641121            0.155824   \n",
       "14397  0.275983    0.441327            1.922137           -0.399517   \n",
       "14398  0.275983    0.906788            0.237036            0.183258   \n",
       "14399  1.024798    0.131020            0.510123            7.609611   \n",
       "14400  0.556789    0.906788           -0.339468           -0.533787   \n",
       "\n",
       "       avg_nas_delays  avg_security_delays  avg_late_aircraft_delays  \\\n",
       "0           -0.701801             0.008946                 -0.319400   \n",
       "1           -0.095992            -0.340177                 -1.176244   \n",
       "2           -0.701801             0.008946                 -0.319400   \n",
       "3            0.196036             0.377282                 -0.102282   \n",
       "4           -0.095992            -0.340177                 -1.176244   \n",
       "...               ...                  ...                       ...   \n",
       "14396        3.147859            -0.340177                 -0.973955   \n",
       "14397        0.129769            -0.340177                  1.802595   \n",
       "14398        0.307354             0.098281                  0.405124   \n",
       "14399        4.315033            -0.340177                  5.595229   \n",
       "14400       -0.701801             0.008946                 -0.319400   \n",
       "\n",
       "       avg_dep_delays  \n",
       "0            0.272852  \n",
       "1           -0.683355  \n",
       "2            0.272852  \n",
       "3           -1.006591  \n",
       "4           -0.683355  \n",
       "...               ...  \n",
       "14396        0.377197  \n",
       "14397        1.916812  \n",
       "14398        0.387202  \n",
       "14399        5.085863  \n",
       "14400        0.272852  \n",
       "\n",
       "[14401 rows x 13 columns]"
      ]
     },
     "execution_count": 186,
     "metadata": {},
     "output_type": "execute_result"
    }
   ],
   "source": [
    "df_final"
   ]
  },
  {
   "cell_type": "markdown",
   "metadata": {},
   "source": [
    "### One-hot encode categorical variables"
   ]
  },
  {
   "cell_type": "code",
   "execution_count": 403,
   "metadata": {},
   "outputs": [],
   "source": [
    "X_train = pd.get_dummies(df_final)"
   ]
  },
  {
   "cell_type": "code",
   "execution_count": 404,
   "metadata": {},
   "outputs": [
    {
     "name": "stdout",
     "output_type": "stream",
     "text": [
      "delayed                  0\n",
      "temp                     0\n",
      "wind_speed               0\n",
      "avg_carrier_delays       0\n",
      "avg_weather_delays       0\n",
      "                        ..\n",
      "day_of_week_Saturday     0\n",
      "day_of_week_Sunday       0\n",
      "day_of_week_Thursday     0\n",
      "day_of_week_Tuesday      0\n",
      "day_of_week_Wednesday    0\n",
      "Length: 76, dtype: int64\n",
      "*********************************\n",
      "(14401, 76)\n"
     ]
    }
   ],
   "source": [
    "print(X_train.isnull().sum())\n",
    "print('*********************************')\n",
    "print(X_train.shape)"
   ]
  },
  {
   "cell_type": "markdown",
   "metadata": {},
   "source": [
    "### Convert Train set to numpy array"
   ]
  },
  {
   "cell_type": "code",
   "execution_count": 405,
   "metadata": {},
   "outputs": [],
   "source": [
    "y_train = np.array(y_train)\n",
    "y_train = y_train.ravel()\n",
    "X_train = np.array(X_train)"
   ]
  },
  {
   "cell_type": "markdown",
   "metadata": {},
   "source": [
    "### Separate 'TEST' set for continuous and categorical variables"
   ]
  },
  {
   "cell_type": "code",
   "execution_count": 406,
   "metadata": {},
   "outputs": [],
   "source": [
    "X_test_continuous = X_test.loc[:, ['temp', 'wind_speed', 'avg_carrier_delays', 'avg_weather_delays', 'avg_nas_delays', \n",
    "                                     'avg_security_delays', 'avg_late_aircraft_delays', 'avg_dep_delays']]\n",
    "\n",
    "X_test_categorical = X_test.loc[:, ['origin_city_name', 'carrier_name', 'delayed', 'weather_desc', 'day_of_week']]"
   ]
  },
  {
   "cell_type": "markdown",
   "metadata": {},
   "source": [
    "### Scale Test set"
   ]
  },
  {
   "cell_type": "code",
   "execution_count": null,
   "metadata": {},
   "outputs": [],
   "source": []
  },
  {
   "cell_type": "code",
   "execution_count": 407,
   "metadata": {},
   "outputs": [],
   "source": [
    "scaler = StandardScaler()\n",
    "scaler.fit(X_test_continuous)\n",
    "scaled_df_test = scaler.transform(X_test_continuous)"
   ]
  },
  {
   "cell_type": "code",
   "execution_count": 408,
   "metadata": {},
   "outputs": [
    {
     "name": "stdout",
     "output_type": "stream",
     "text": [
      "origin_city_name    0\n",
      "carrier_name        0\n",
      "delayed             0\n",
      "weather_desc        0\n",
      "day_of_week         0\n",
      "dtype: int64\n",
      "*********************************\n",
      "temp                        0\n",
      "wind_speed                  0\n",
      "avg_carrier_delays          0\n",
      "avg_weather_delays          0\n",
      "avg_nas_delays              0\n",
      "avg_security_delays         0\n",
      "avg_late_aircraft_delays    0\n",
      "avg_dep_delays              0\n",
      "dtype: int64\n",
      "*********************************\n",
      "(6173, 5)\n",
      "(6173, 8)\n"
     ]
    }
   ],
   "source": [
    "X_test_df = pd.DataFrame(scaled_df_test)\n",
    "\n",
    "X_test_df.columns = ['temp', 'wind_speed', 'avg_carrier_delays', 'avg_weather_delays', 'avg_nas_delays', \n",
    "                                     'avg_security_delays', 'avg_late_aircraft_delays', 'avg_dep_delays']\n",
    "\n",
    "print(X_test_categorical.isnull().sum())\n",
    "print('*********************************')\n",
    "print(X_test_df.isnull().sum())\n",
    "print('*********************************')\n",
    "print(X_test_categorical.shape)\n",
    "print(X_test_df.shape)"
   ]
  },
  {
   "cell_type": "code",
   "execution_count": 283,
   "metadata": {},
   "outputs": [],
   "source": []
  },
  {
   "cell_type": "markdown",
   "metadata": {},
   "source": [
    "### Combine Coninuous and Categorical variables"
   ]
  },
  {
   "cell_type": "code",
   "execution_count": 409,
   "metadata": {},
   "outputs": [],
   "source": [
    "X_test_categorical.insert(0, 'New_ID', range(0, 0 + len(X_test_categorical)))\n",
    "X_test_df.insert(0, 'New_ID', range(0, 0 + len(X_test_df)))"
   ]
  },
  {
   "cell_type": "code",
   "execution_count": 410,
   "metadata": {},
   "outputs": [
    {
     "name": "stdout",
     "output_type": "stream",
     "text": [
      "New_ID              0\n",
      "origin_city_name    0\n",
      "carrier_name        0\n",
      "delayed             0\n",
      "weather_desc        0\n",
      "day_of_week         0\n",
      "dtype: int64\n",
      "*********************************\n",
      "New_ID                      0\n",
      "temp                        0\n",
      "wind_speed                  0\n",
      "avg_carrier_delays          0\n",
      "avg_weather_delays          0\n",
      "avg_nas_delays              0\n",
      "avg_security_delays         0\n",
      "avg_late_aircraft_delays    0\n",
      "avg_dep_delays              0\n",
      "dtype: int64\n",
      "*********************************\n",
      "(6173, 6)\n",
      "(6173, 9)\n"
     ]
    }
   ],
   "source": [
    "print(X_test_categorical.isnull().sum())\n",
    "print('*********************************')\n",
    "print(X_test_df.isnull().sum())\n",
    "print('*********************************')\n",
    "print(X_test_categorical.shape)\n",
    "print(X_test_df.shape)"
   ]
  },
  {
   "cell_type": "code",
   "execution_count": 411,
   "metadata": {},
   "outputs": [],
   "source": [
    "df_test = pd.merge(X_test_categorical, X_test_df, how='inner', on='New_ID')"
   ]
  },
  {
   "cell_type": "code",
   "execution_count": 412,
   "metadata": {},
   "outputs": [],
   "source": [
    "df_test.drop(['New_ID'], axis=1, inplace=True)"
   ]
  },
  {
   "cell_type": "code",
   "execution_count": 413,
   "metadata": {},
   "outputs": [
    {
     "name": "stdout",
     "output_type": "stream",
     "text": [
      "origin_city_name            0\n",
      "carrier_name                0\n",
      "delayed                     0\n",
      "weather_desc                0\n",
      "day_of_week                 0\n",
      "temp                        0\n",
      "wind_speed                  0\n",
      "avg_carrier_delays          0\n",
      "avg_weather_delays          0\n",
      "avg_nas_delays              0\n",
      "avg_security_delays         0\n",
      "avg_late_aircraft_delays    0\n",
      "avg_dep_delays              0\n",
      "dtype: int64\n",
      "*********************************\n",
      "(6173, 13)\n"
     ]
    }
   ],
   "source": [
    "print(df_test.isnull().sum())\n",
    "print('*********************************')\n",
    "print(df_test.shape)"
   ]
  },
  {
   "cell_type": "markdown",
   "metadata": {},
   "source": [
    "### One Hot Encoding TEST set"
   ]
  },
  {
   "cell_type": "code",
   "execution_count": 414,
   "metadata": {},
   "outputs": [],
   "source": [
    "X_test = pd.get_dummies(df_test)"
   ]
  },
  {
   "cell_type": "code",
   "execution_count": 415,
   "metadata": {},
   "outputs": [
    {
     "name": "stdout",
     "output_type": "stream",
     "text": [
      "delayed                  0\n",
      "temp                     0\n",
      "wind_speed               0\n",
      "avg_carrier_delays       0\n",
      "avg_weather_delays       0\n",
      "                        ..\n",
      "day_of_week_Saturday     0\n",
      "day_of_week_Sunday       0\n",
      "day_of_week_Thursday     0\n",
      "day_of_week_Tuesday      0\n",
      "day_of_week_Wednesday    0\n",
      "Length: 76, dtype: int64\n",
      "*********************************\n",
      "(6173, 76)\n"
     ]
    }
   ],
   "source": [
    "print(X_test.isnull().sum())\n",
    "print('*********************************')\n",
    "print(X_test.shape)"
   ]
  },
  {
   "cell_type": "markdown",
   "metadata": {},
   "source": [
    "### Convert TEST set to numpy array"
   ]
  },
  {
   "cell_type": "code",
   "execution_count": 416,
   "metadata": {},
   "outputs": [],
   "source": [
    "y_test = np.array(y_test)\n",
    "y_test = y_test.ravel()\n",
    "X_test = np.array(X_test)"
   ]
  },
  {
   "cell_type": "code",
   "execution_count": null,
   "metadata": {},
   "outputs": [],
   "source": []
  },
  {
   "cell_type": "markdown",
   "metadata": {},
   "source": [
    "### Apply Logistic Regression Model"
   ]
  },
  {
   "cell_type": "code",
   "execution_count": 215,
   "metadata": {},
   "outputs": [],
   "source": [
    "logres = LogisticRegression(max_iter=1000)"
   ]
  },
  {
   "cell_type": "code",
   "execution_count": 218,
   "metadata": {},
   "outputs": [],
   "source": [
    "penalty = ['l1', 'l2']"
   ]
  },
  {
   "cell_type": "code",
   "execution_count": 240,
   "metadata": {},
   "outputs": [],
   "source": [
    "C = np.logspace(0,4,10)"
   ]
  },
  {
   "cell_type": "code",
   "execution_count": 241,
   "metadata": {},
   "outputs": [],
   "source": [
    "params_dict = {'penalty' : ['l1','l2'], 'C' : np.logspace(0,4,10)}"
   ]
  },
  {
   "cell_type": "code",
   "execution_count": 242,
   "metadata": {},
   "outputs": [],
   "source": [
    "k_folds = KFold(n_splits=5)"
   ]
  },
  {
   "cell_type": "code",
   "execution_count": 246,
   "metadata": {},
   "outputs": [],
   "source": [
    "grid = GridSearchCV(estimator=logres, param_grid=params_dict, cv=k_folds, scoring='neg_mean_squared_error', verbose=1, n_jobs=-1)"
   ]
  },
  {
   "cell_type": "code",
   "execution_count": 237,
   "metadata": {},
   "outputs": [],
   "source": [
    "y_train = y_train.ravel()\n",
    "X_train = np.array(X_train)"
   ]
  },
  {
   "cell_type": "code",
   "execution_count": 247,
   "metadata": {},
   "outputs": [
    {
     "name": "stdout",
     "output_type": "stream",
     "text": [
      "Fitting 5 folds for each of 20 candidates, totalling 100 fits\n"
     ]
    },
    {
     "name": "stderr",
     "output_type": "stream",
     "text": [
      "[Parallel(n_jobs=-1)]: Using backend LokyBackend with 8 concurrent workers.\n",
      "[Parallel(n_jobs=-1)]: Done  49 tasks      | elapsed: 11.4min\n",
      "[Parallel(n_jobs=-1)]: Done 100 out of 100 | elapsed: 29.6min finished\n"
     ]
    }
   ],
   "source": [
    "grid_result = grid.fit(X_train, y_train)"
   ]
  },
  {
   "cell_type": "markdown",
   "metadata": {},
   "source": [
    "Logistic Regression with RMSE"
   ]
  },
  {
   "cell_type": "code",
   "execution_count": 245,
   "metadata": {},
   "outputs": [
    {
     "name": "stdout",
     "output_type": "stream",
     "text": [
      "Best Score: -46.8166981813402\n",
      "Best Hyperparameters: {'C': 1.0, 'penalty': 'l2'}\n"
     ]
    }
   ],
   "source": [
    "print('Best Score: %s' % grid_result.best_score_)\n",
    "print('Best Hyperparameters: %s' % grid_result.best_params_)"
   ]
  },
  {
   "cell_type": "markdown",
   "metadata": {},
   "source": [
    "Logistic Regression with MSE"
   ]
  },
  {
   "cell_type": "code",
   "execution_count": null,
   "metadata": {},
   "outputs": [],
   "source": [
    "grid1 = GridSearchCV(estimator=logres, param_grid=params_dict, cv=k_folds, scoring='neg_mean_squared_error', verbose=1, n_jobs=-1)"
   ]
  },
  {
   "cell_type": "code",
   "execution_count": null,
   "metadata": {},
   "outputs": [],
   "source": [
    "grid_result1 = grid1.fit(X_train, y_train)"
   ]
  },
  {
   "cell_type": "code",
   "execution_count": 479,
   "metadata": {},
   "outputs": [
    {
     "name": "stdout",
     "output_type": "stream",
     "text": [
      "Best Score: -2205.633076574492\n",
      "Best Hyperparameters: {'C': 1.0, 'penalty': 'l2'}\n"
     ]
    }
   ],
   "source": [
    "print('Best Score: %s' % grid_result.best_score_)\n",
    "print('Best Hyperparameters: %s' % grid_result.best_params_)"
   ]
  },
  {
   "cell_type": "code",
   "execution_count": null,
   "metadata": {},
   "outputs": [],
   "source": [
    "y_pred = grid_result.predict(X_test)\n",
    "probabilities = grid_result.predict_proba(X_test)"
   ]
  },
  {
   "cell_type": "markdown",
   "metadata": {},
   "source": [
    "### Logistic Regression with different C parameter"
   ]
  },
  {
   "cell_type": "code",
   "execution_count": 249,
   "metadata": {},
   "outputs": [],
   "source": [
    "logres = LogisticRegression(max_iter=1000)"
   ]
  },
  {
   "cell_type": "code",
   "execution_count": 482,
   "metadata": {},
   "outputs": [],
   "source": [
    "params_dict1 = {'penalty' : ['l1','l2'], 'C' : np.logspace(0,4,10)}"
   ]
  },
  {
   "cell_type": "code",
   "execution_count": 251,
   "metadata": {},
   "outputs": [],
   "source": [
    "k_folds = KFold(n_splits=5)"
   ]
  },
  {
   "cell_type": "code",
   "execution_count": 543,
   "metadata": {},
   "outputs": [],
   "source": [
    "grid = GridSearchCV(estimator=logres, param_grid=params_dict1, cv=k_folds, scoring='neg_root_mean_squared_error', verbose=1, n_jobs=-1)"
   ]
  },
  {
   "cell_type": "code",
   "execution_count": 551,
   "metadata": {},
   "outputs": [
    {
     "name": "stdout",
     "output_type": "stream",
     "text": [
      "Fitting 5 folds for each of 20 candidates, totalling 100 fits\n"
     ]
    },
    {
     "name": "stderr",
     "output_type": "stream",
     "text": [
      "[Parallel(n_jobs=-1)]: Using backend LokyBackend with 8 concurrent workers.\n",
      "[Parallel(n_jobs=-1)]: Done  34 tasks      | elapsed:  6.2min\n",
      "[Parallel(n_jobs=-1)]: Done 100 out of 100 | elapsed: 32.3min finished\n"
     ]
    }
   ],
   "source": [
    "grid_result = grid.fit(X_train, y_train)"
   ]
  },
  {
   "cell_type": "code",
   "execution_count": 542,
   "metadata": {},
   "outputs": [
    {
     "ename": "ValueError",
     "evalue": "'neg_mean_squared_root_error' is not a valid scoring value. Use sorted(sklearn.metrics.SCORERS.keys()) to get valid options.",
     "output_type": "error",
     "traceback": [
      "\u001b[0;31m---------------------------------------------------------------------------\u001b[0m",
      "\u001b[0;31mKeyError\u001b[0m                                  Traceback (most recent call last)",
      "\u001b[0;32m~/anaconda3/lib/python3.8/site-packages/sklearn/metrics/_scorer.py\u001b[0m in \u001b[0;36mget_scorer\u001b[0;34m(scoring)\u001b[0m\n\u001b[1;32m    359\u001b[0m             \u001b[0;32melse\u001b[0m\u001b[0;34m:\u001b[0m\u001b[0;34m\u001b[0m\u001b[0;34m\u001b[0m\u001b[0m\n\u001b[0;32m--> 360\u001b[0;31m                 \u001b[0mscorer\u001b[0m \u001b[0;34m=\u001b[0m \u001b[0mSCORERS\u001b[0m\u001b[0;34m[\u001b[0m\u001b[0mscoring\u001b[0m\u001b[0;34m]\u001b[0m\u001b[0;34m\u001b[0m\u001b[0;34m\u001b[0m\u001b[0m\n\u001b[0m\u001b[1;32m    361\u001b[0m         \u001b[0;32mexcept\u001b[0m \u001b[0mKeyError\u001b[0m\u001b[0;34m:\u001b[0m\u001b[0;34m\u001b[0m\u001b[0;34m\u001b[0m\u001b[0m\n",
      "\u001b[0;31mKeyError\u001b[0m: 'neg_mean_squared_root_error'",
      "\nDuring handling of the above exception, another exception occurred:\n",
      "\u001b[0;31mValueError\u001b[0m                                Traceback (most recent call last)",
      "\u001b[0;32m<ipython-input-542-95fa79aa4205>\u001b[0m in \u001b[0;36m<module>\u001b[0;34m\u001b[0m\n\u001b[0;32m----> 1\u001b[0;31m \u001b[0mgrid_result2\u001b[0m \u001b[0;34m=\u001b[0m \u001b[0mgrid\u001b[0m\u001b[0;34m.\u001b[0m\u001b[0mfit\u001b[0m\u001b[0;34m(\u001b[0m\u001b[0mX_train\u001b[0m\u001b[0;34m,\u001b[0m \u001b[0my_train\u001b[0m\u001b[0;34m)\u001b[0m\u001b[0;34m\u001b[0m\u001b[0;34m\u001b[0m\u001b[0m\n\u001b[0m",
      "\u001b[0;32m~/anaconda3/lib/python3.8/site-packages/sklearn/utils/validation.py\u001b[0m in \u001b[0;36minner_f\u001b[0;34m(*args, **kwargs)\u001b[0m\n\u001b[1;32m     70\u001b[0m                           FutureWarning)\n\u001b[1;32m     71\u001b[0m         \u001b[0mkwargs\u001b[0m\u001b[0;34m.\u001b[0m\u001b[0mupdate\u001b[0m\u001b[0;34m(\u001b[0m\u001b[0;34m{\u001b[0m\u001b[0mk\u001b[0m\u001b[0;34m:\u001b[0m \u001b[0marg\u001b[0m \u001b[0;32mfor\u001b[0m \u001b[0mk\u001b[0m\u001b[0;34m,\u001b[0m \u001b[0marg\u001b[0m \u001b[0;32min\u001b[0m \u001b[0mzip\u001b[0m\u001b[0;34m(\u001b[0m\u001b[0msig\u001b[0m\u001b[0;34m.\u001b[0m\u001b[0mparameters\u001b[0m\u001b[0;34m,\u001b[0m \u001b[0margs\u001b[0m\u001b[0;34m)\u001b[0m\u001b[0;34m}\u001b[0m\u001b[0;34m)\u001b[0m\u001b[0;34m\u001b[0m\u001b[0;34m\u001b[0m\u001b[0m\n\u001b[0;32m---> 72\u001b[0;31m         \u001b[0;32mreturn\u001b[0m \u001b[0mf\u001b[0m\u001b[0;34m(\u001b[0m\u001b[0;34m**\u001b[0m\u001b[0mkwargs\u001b[0m\u001b[0;34m)\u001b[0m\u001b[0;34m\u001b[0m\u001b[0;34m\u001b[0m\u001b[0m\n\u001b[0m\u001b[1;32m     73\u001b[0m     \u001b[0;32mreturn\u001b[0m \u001b[0minner_f\u001b[0m\u001b[0;34m\u001b[0m\u001b[0;34m\u001b[0m\u001b[0m\n\u001b[1;32m     74\u001b[0m \u001b[0;34m\u001b[0m\u001b[0m\n",
      "\u001b[0;32m~/anaconda3/lib/python3.8/site-packages/sklearn/model_selection/_search.py\u001b[0m in \u001b[0;36mfit\u001b[0;34m(self, X, y, groups, **fit_params)\u001b[0m\n\u001b[1;32m    652\u001b[0m         \u001b[0mcv\u001b[0m \u001b[0;34m=\u001b[0m \u001b[0mcheck_cv\u001b[0m\u001b[0;34m(\u001b[0m\u001b[0mself\u001b[0m\u001b[0;34m.\u001b[0m\u001b[0mcv\u001b[0m\u001b[0;34m,\u001b[0m \u001b[0my\u001b[0m\u001b[0;34m,\u001b[0m \u001b[0mclassifier\u001b[0m\u001b[0;34m=\u001b[0m\u001b[0mis_classifier\u001b[0m\u001b[0;34m(\u001b[0m\u001b[0mestimator\u001b[0m\u001b[0;34m)\u001b[0m\u001b[0;34m)\u001b[0m\u001b[0;34m\u001b[0m\u001b[0;34m\u001b[0m\u001b[0m\n\u001b[1;32m    653\u001b[0m \u001b[0;34m\u001b[0m\u001b[0m\n\u001b[0;32m--> 654\u001b[0;31m         scorers, self.multimetric_ = _check_multimetric_scoring(\n\u001b[0m\u001b[1;32m    655\u001b[0m             self.estimator, scoring=self.scoring)\n\u001b[1;32m    656\u001b[0m \u001b[0;34m\u001b[0m\u001b[0m\n",
      "\u001b[0;32m~/anaconda3/lib/python3.8/site-packages/sklearn/metrics/_scorer.py\u001b[0m in \u001b[0;36m_check_multimetric_scoring\u001b[0;34m(estimator, scoring)\u001b[0m\n\u001b[1;32m    473\u001b[0m     if callable(scoring) or scoring is None or isinstance(scoring,\n\u001b[1;32m    474\u001b[0m                                                           str):\n\u001b[0;32m--> 475\u001b[0;31m         \u001b[0mscorers\u001b[0m \u001b[0;34m=\u001b[0m \u001b[0;34m{\u001b[0m\u001b[0;34m\"score\"\u001b[0m\u001b[0;34m:\u001b[0m \u001b[0mcheck_scoring\u001b[0m\u001b[0;34m(\u001b[0m\u001b[0mestimator\u001b[0m\u001b[0;34m,\u001b[0m \u001b[0mscoring\u001b[0m\u001b[0;34m=\u001b[0m\u001b[0mscoring\u001b[0m\u001b[0;34m)\u001b[0m\u001b[0;34m}\u001b[0m\u001b[0;34m\u001b[0m\u001b[0;34m\u001b[0m\u001b[0m\n\u001b[0m\u001b[1;32m    476\u001b[0m         \u001b[0;32mreturn\u001b[0m \u001b[0mscorers\u001b[0m\u001b[0;34m,\u001b[0m \u001b[0;32mFalse\u001b[0m\u001b[0;34m\u001b[0m\u001b[0;34m\u001b[0m\u001b[0m\n\u001b[1;32m    477\u001b[0m     \u001b[0;32melse\u001b[0m\u001b[0;34m:\u001b[0m\u001b[0;34m\u001b[0m\u001b[0;34m\u001b[0m\u001b[0m\n",
      "\u001b[0;32m~/anaconda3/lib/python3.8/site-packages/sklearn/utils/validation.py\u001b[0m in \u001b[0;36minner_f\u001b[0;34m(*args, **kwargs)\u001b[0m\n\u001b[1;32m     70\u001b[0m                           FutureWarning)\n\u001b[1;32m     71\u001b[0m         \u001b[0mkwargs\u001b[0m\u001b[0;34m.\u001b[0m\u001b[0mupdate\u001b[0m\u001b[0;34m(\u001b[0m\u001b[0;34m{\u001b[0m\u001b[0mk\u001b[0m\u001b[0;34m:\u001b[0m \u001b[0marg\u001b[0m \u001b[0;32mfor\u001b[0m \u001b[0mk\u001b[0m\u001b[0;34m,\u001b[0m \u001b[0marg\u001b[0m \u001b[0;32min\u001b[0m \u001b[0mzip\u001b[0m\u001b[0;34m(\u001b[0m\u001b[0msig\u001b[0m\u001b[0;34m.\u001b[0m\u001b[0mparameters\u001b[0m\u001b[0;34m,\u001b[0m \u001b[0margs\u001b[0m\u001b[0;34m)\u001b[0m\u001b[0;34m}\u001b[0m\u001b[0;34m)\u001b[0m\u001b[0;34m\u001b[0m\u001b[0;34m\u001b[0m\u001b[0m\n\u001b[0;32m---> 72\u001b[0;31m         \u001b[0;32mreturn\u001b[0m \u001b[0mf\u001b[0m\u001b[0;34m(\u001b[0m\u001b[0;34m**\u001b[0m\u001b[0mkwargs\u001b[0m\u001b[0;34m)\u001b[0m\u001b[0;34m\u001b[0m\u001b[0;34m\u001b[0m\u001b[0m\n\u001b[0m\u001b[1;32m     73\u001b[0m     \u001b[0;32mreturn\u001b[0m \u001b[0minner_f\u001b[0m\u001b[0;34m\u001b[0m\u001b[0;34m\u001b[0m\u001b[0m\n\u001b[1;32m     74\u001b[0m \u001b[0;34m\u001b[0m\u001b[0m\n",
      "\u001b[0;32m~/anaconda3/lib/python3.8/site-packages/sklearn/metrics/_scorer.py\u001b[0m in \u001b[0;36mcheck_scoring\u001b[0;34m(estimator, scoring, allow_none)\u001b[0m\n\u001b[1;32m    403\u001b[0m                         \"'fit' method, %r was passed\" % estimator)\n\u001b[1;32m    404\u001b[0m     \u001b[0;32mif\u001b[0m \u001b[0misinstance\u001b[0m\u001b[0;34m(\u001b[0m\u001b[0mscoring\u001b[0m\u001b[0;34m,\u001b[0m \u001b[0mstr\u001b[0m\u001b[0;34m)\u001b[0m\u001b[0;34m:\u001b[0m\u001b[0;34m\u001b[0m\u001b[0;34m\u001b[0m\u001b[0m\n\u001b[0;32m--> 405\u001b[0;31m         \u001b[0;32mreturn\u001b[0m \u001b[0mget_scorer\u001b[0m\u001b[0;34m(\u001b[0m\u001b[0mscoring\u001b[0m\u001b[0;34m)\u001b[0m\u001b[0;34m\u001b[0m\u001b[0;34m\u001b[0m\u001b[0m\n\u001b[0m\u001b[1;32m    406\u001b[0m     \u001b[0;32melif\u001b[0m \u001b[0mcallable\u001b[0m\u001b[0;34m(\u001b[0m\u001b[0mscoring\u001b[0m\u001b[0;34m)\u001b[0m\u001b[0;34m:\u001b[0m\u001b[0;34m\u001b[0m\u001b[0;34m\u001b[0m\u001b[0m\n\u001b[1;32m    407\u001b[0m         \u001b[0;31m# Heuristic to ensure user has not passed a metric\u001b[0m\u001b[0;34m\u001b[0m\u001b[0;34m\u001b[0m\u001b[0;34m\u001b[0m\u001b[0m\n",
      "\u001b[0;32m~/anaconda3/lib/python3.8/site-packages/sklearn/metrics/_scorer.py\u001b[0m in \u001b[0;36mget_scorer\u001b[0;34m(scoring)\u001b[0m\n\u001b[1;32m    360\u001b[0m                 \u001b[0mscorer\u001b[0m \u001b[0;34m=\u001b[0m \u001b[0mSCORERS\u001b[0m\u001b[0;34m[\u001b[0m\u001b[0mscoring\u001b[0m\u001b[0;34m]\u001b[0m\u001b[0;34m\u001b[0m\u001b[0;34m\u001b[0m\u001b[0m\n\u001b[1;32m    361\u001b[0m         \u001b[0;32mexcept\u001b[0m \u001b[0mKeyError\u001b[0m\u001b[0;34m:\u001b[0m\u001b[0;34m\u001b[0m\u001b[0;34m\u001b[0m\u001b[0m\n\u001b[0;32m--> 362\u001b[0;31m             raise ValueError('%r is not a valid scoring value. '\n\u001b[0m\u001b[1;32m    363\u001b[0m                              \u001b[0;34m'Use sorted(sklearn.metrics.SCORERS.keys()) '\u001b[0m\u001b[0;34m\u001b[0m\u001b[0;34m\u001b[0m\u001b[0m\n\u001b[1;32m    364\u001b[0m                              'to get valid options.' % scoring)\n",
      "\u001b[0;31mValueError\u001b[0m: 'neg_mean_squared_root_error' is not a valid scoring value. Use sorted(sklearn.metrics.SCORERS.keys()) to get valid options."
     ]
    }
   ],
   "source": [
    "grid_result2 = grid.fit(X_train, y_train)"
   ]
  },
  {
   "cell_type": "code",
   "execution_count": 255,
   "metadata": {},
   "outputs": [
    {
     "name": "stdout",
     "output_type": "stream",
     "text": [
      "Best Score: -2205.633076574492\n",
      "Best Hyperparameters: {'C': 1.0, 'penalty': 'l2'}\n"
     ]
    }
   ],
   "source": [
    "print('Best Score: %s' % grid_result2.best_score_)\n",
    "print('Best Hyperparameters: %s' % grid_result2.best_params_)"
   ]
  },
  {
   "cell_type": "code",
   "execution_count": 552,
   "metadata": {},
   "outputs": [],
   "source": [
    "y_pred = grid_result.predict(X_test)\n",
    "y_pred1 = grid_result2.predict(X_test)"
   ]
  },
  {
   "cell_type": "code",
   "execution_count": 553,
   "metadata": {},
   "outputs": [
    {
     "name": "stdout",
     "output_type": "stream",
     "text": [
      "0.025370205256110556\n",
      "Mean Absolute Error: 17.779847723959175\n",
      "Mean Squared Error: 2223.604892272801\n",
      "Root Mean Squared Error: 47.155115229132896\n"
     ]
    }
   ],
   "source": [
    "mean_squared_error(y_test, y_pred)\n",
    "\n",
    "print(r2_score(y_test, y_pred))\n",
    "print('Mean Absolute Error:', metrics.mean_absolute_error(y_test, y_pred))\n",
    "print('Mean Squared Error:', metrics.mean_squared_error(y_test, y_pred))\n",
    "print('Root Mean Squared Error:', np.sqrt(metrics.mean_squared_error(y_test, y_pred)))"
   ]
  },
  {
   "cell_type": "markdown",
   "metadata": {},
   "source": [
    "### BEST RESULT FOR LOGISTIC REGRESSION"
   ]
  },
  {
   "cell_type": "code",
   "execution_count": 472,
   "metadata": {},
   "outputs": [
    {
     "name": "stdout",
     "output_type": "stream",
     "text": [
      "0.0762371797514736\n",
      "Mean Absolute Error: 17.288514498623037\n",
      "Mean Squared Error: 2107.5525676332413\n",
      "Root Mean Squared Error: 45.90808825940415\n"
     ]
    }
   ],
   "source": [
    "from sklearn.metrics import mean_squared_error\n",
    "mean_squared_error(y_test, y_pred1)\n",
    "\n",
    "print(r2_score(y_test, y_pred1))\n",
    "print('Mean Absolute Error:', metrics.mean_absolute_error(y_test, y_pred1))\n",
    "print('Mean Squared Error:', metrics.mean_squared_error(y_test, y_pred1))\n",
    "print('Root Mean Squared Error:', np.sqrt(metrics.mean_squared_error(y_test, y_pred1)))"
   ]
  },
  {
   "cell_type": "code",
   "execution_count": 540,
   "metadata": {},
   "outputs": [
    {
     "name": "stdout",
     "output_type": "stream",
     "text": [
      "0.025370205256110556\n",
      "Mean Absolute Error: 17.779847723959175\n",
      "Mean Squared Error: 2223.604892272801\n",
      "Root Mean Squared Error: 47.155115229132896\n"
     ]
    }
   ],
   "source": [
    "from sklearn.metrics import mean_squared_error\n",
    "mean_squared_error(y_test, y_pred1)\n",
    "\n",
    "print(r2_score(y_test, y_pred1))\n",
    "print('Mean Absolute Error:', metrics.mean_absolute_error(y_test, y_pred1))\n",
    "print('Mean Squared Error:', metrics.mean_squared_error(y_test, y_pred1))\n",
    "print('Root Mean Squared Error:', np.sqrt(metrics.mean_squared_error(y_test, y_pred1)))"
   ]
  },
  {
   "cell_type": "markdown",
   "metadata": {},
   "source": [
    "### Logistic Regression with different C parameter"
   ]
  },
  {
   "cell_type": "code",
   "execution_count": null,
   "metadata": {},
   "outputs": [],
   "source": [
    "params_dict1 = {'penalty' : ['l1','l2'], 'C' : [0.001,0.01,0.1,1,10]}"
   ]
  },
  {
   "cell_type": "code",
   "execution_count": 443,
   "metadata": {},
   "outputs": [],
   "source": [
    "grid3 = GridSearchCV(estimator=logres, param_grid=params_dict1, cv=k_folds, scoring='r2', verbose=1, n_jobs=-1)"
   ]
  },
  {
   "cell_type": "code",
   "execution_count": 298,
   "metadata": {},
   "outputs": [],
   "source": [
    "y_train = np.array(y_train)\n",
    "y_train = y_train.ravel()\n",
    "X_train = np.array(X_train)"
   ]
  },
  {
   "cell_type": "code",
   "execution_count": 444,
   "metadata": {},
   "outputs": [
    {
     "name": "stdout",
     "output_type": "stream",
     "text": [
      "Fitting 5 folds for each of 5 candidates, totalling 25 fits\n"
     ]
    },
    {
     "name": "stderr",
     "output_type": "stream",
     "text": [
      "[Parallel(n_jobs=-1)]: Using backend LokyBackend with 8 concurrent workers.\n",
      "[Parallel(n_jobs=-1)]: Done  25 out of  25 | elapsed:  5.2min finished\n"
     ]
    }
   ],
   "source": [
    "grid_result3 = grid3.fit(X_train, y_train)"
   ]
  },
  {
   "cell_type": "code",
   "execution_count": 446,
   "metadata": {},
   "outputs": [
    {
     "name": "stdout",
     "output_type": "stream",
     "text": [
      "Best Score: 0.06994545332897614\n",
      "Best Hyperparameters: {'C': 0.1, 'penalty': 'l2'}\n"
     ]
    }
   ],
   "source": [
    "print('Best Score: %s' % grid_result3.best_score_)\n",
    "print('Best Hyperparameters: %s' % grid_result3.best_params_)"
   ]
  },
  {
   "cell_type": "code",
   "execution_count": 447,
   "metadata": {},
   "outputs": [],
   "source": [
    "y_pred2 = grid_result3.predict(X_test)"
   ]
  },
  {
   "cell_type": "code",
   "execution_count": 459,
   "metadata": {},
   "outputs": [
    {
     "name": "stdout",
     "output_type": "stream",
     "text": [
      "0.06551976268407589\n",
      "Accuracy:  0.043576867001457964\n",
      "Mean Absolute Error: 17.648793131378586\n",
      "Mean Squared Error: 2132.0042118904908\n",
      "Root Mean Squared Error: 46.17363113174543\n"
     ]
    }
   ],
   "source": [
    "from sklearn.metrics import r2_score\n",
    "\n",
    "print(r2_score(y_test, y_pred2))\n",
    "\n",
    "print(\"Accuracy: \",accuracy_score(y_test,y_pred2))\n",
    "print('Mean Absolute Error:', metrics.mean_absolute_error(y_test, y_pred2))\n",
    "print('Mean Squared Error:', metrics.mean_squared_error(y_test, y_pred2))\n",
    "print('Root Mean Squared Error:', np.sqrt(metrics.mean_squared_error(y_test, y_pred2)))"
   ]
  },
  {
   "cell_type": "markdown",
   "metadata": {},
   "source": [
    "### Random Forest"
   ]
  },
  {
   "cell_type": "code",
   "execution_count": 364,
   "metadata": {},
   "outputs": [],
   "source": [
    "from sklearn.ensemble import RandomForestClassifier"
   ]
  },
  {
   "cell_type": "code",
   "execution_count": 419,
   "metadata": {},
   "outputs": [],
   "source": [
    "clf1 = RandomForestClassifier(n_estimators=100)"
   ]
  },
  {
   "cell_type": "code",
   "execution_count": 420,
   "metadata": {},
   "outputs": [
    {
     "data": {
      "text/plain": [
       "(6173, 76)"
      ]
     },
     "execution_count": 420,
     "metadata": {},
     "output_type": "execute_result"
    }
   ],
   "source": [
    "X_test.shape"
   ]
  },
  {
   "cell_type": "code",
   "execution_count": 421,
   "metadata": {},
   "outputs": [
    {
     "data": {
      "text/plain": [
       "RandomForestClassifier()"
      ]
     },
     "execution_count": 421,
     "metadata": {},
     "output_type": "execute_result"
    }
   ],
   "source": [
    "clf1.fit(X_train,y_train)"
   ]
  },
  {
   "cell_type": "code",
   "execution_count": 422,
   "metadata": {},
   "outputs": [],
   "source": [
    "y_pred_RF = clf1.predict(X_test)"
   ]
  },
  {
   "cell_type": "code",
   "execution_count": 460,
   "metadata": {},
   "outputs": [
    {
     "name": "stdout",
     "output_type": "stream",
     "text": [
      "-0.2820646617859799\n",
      "Accuracy:  0.033695123926777905\n",
      "Mean Absolute Error: 21.05912846265997\n",
      "Mean Squared Error: 2925.013445650413\n",
      "Root Mean Squared Error: 54.08339343689903\n"
     ]
    }
   ],
   "source": [
    "from sklearn import metrics\n",
    "\n",
    "print(r2_score(y_test, y_pred_RF))\n",
    "\n",
    "print(\"Accuracy: \",accuracy_score(y_test,y_pred_RF))\n",
    "print('Mean Absolute Error:', metrics.mean_absolute_error(y_test, y_pred_RF))\n",
    "print('Mean Squared Error:', metrics.mean_squared_error(y_test, y_pred_RF))\n",
    "print('Root Mean Squared Error:', np.sqrt(metrics.mean_squared_error(y_test, y_pred_RF)))"
   ]
  },
  {
   "cell_type": "markdown",
   "metadata": {},
   "source": [
    "### GridSearch with Random Forest"
   ]
  },
  {
   "cell_type": "code",
   "execution_count": 427,
   "metadata": {},
   "outputs": [],
   "source": [
    "param_grid_RF = { \n",
    "    'n_estimators': [200, 500],\n",
    "    'max_features': ['auto', 'sqrt', 'log2'],\n",
    "    'max_depth' : [4,5,6,7,8],\n",
    "    'criterion' :['gini', 'entropy']\n",
    "}"
   ]
  },
  {
   "cell_type": "code",
   "execution_count": 428,
   "metadata": {},
   "outputs": [],
   "source": [
    "CV_rfc = GridSearchCV(estimator=clf1, param_grid=param_grid_RF, cv= 5)"
   ]
  },
  {
   "cell_type": "code",
   "execution_count": 429,
   "metadata": {},
   "outputs": [
    {
     "name": "stderr",
     "output_type": "stream",
     "text": [
      "/home/hafsa/anaconda3/lib/python3.8/site-packages/sklearn/model_selection/_split.py:670: UserWarning: The least populated class in y has only 1 members, which is less than n_splits=5.\n",
      "  warnings.warn((\"The least populated class in y has only %d\"\n"
     ]
    },
    {
     "data": {
      "text/plain": [
       "GridSearchCV(cv=5, estimator=RandomForestClassifier(),\n",
       "             param_grid={'criterion': ['gini', 'entropy'],\n",
       "                         'max_depth': [4, 5, 6, 7, 8],\n",
       "                         'max_features': ['auto', 'sqrt', 'log2'],\n",
       "                         'n_estimators': [200, 500]})"
      ]
     },
     "execution_count": 429,
     "metadata": {},
     "output_type": "execute_result"
    }
   ],
   "source": [
    "CV_rfc.fit(X_train, y_train)"
   ]
  },
  {
   "cell_type": "code",
   "execution_count": 430,
   "metadata": {},
   "outputs": [
    {
     "data": {
      "text/plain": [
       "{'criterion': 'entropy',\n",
       " 'max_depth': 4,\n",
       " 'max_features': 'auto',\n",
       " 'n_estimators': 200}"
      ]
     },
     "execution_count": 430,
     "metadata": {},
     "output_type": "execute_result"
    }
   ],
   "source": [
    "CV_rfc.best_params_"
   ]
  },
  {
   "cell_type": "code",
   "execution_count": 431,
   "metadata": {},
   "outputs": [],
   "source": [
    "pred=CV_rfc.predict(X_test)"
   ]
  },
  {
   "cell_type": "code",
   "execution_count": 435,
   "metadata": {},
   "outputs": [
    {
     "name": "stdout",
     "output_type": "stream",
     "text": [
      "Accuracy for Random Forest on CV data:  0.048760732220962257\n",
      "Mean Absolute Error: 17.818078729953022\n",
      "Mean Squared Error: 2163.8896808682975\n",
      "Root Mean Squared Error: 46.517627635857544\n"
     ]
    }
   ],
   "source": [
    "from sklearn.metrics import accuracy_score\n",
    "print(\"Accuracy for Random Forest on CV data: \",accuracy_score(y_test,pred))\n",
    "print('Mean Absolute Error:', metrics.mean_absolute_error(y_test, pred))\n",
    "print('Mean Squared Error:', metrics.mean_squared_error(y_test, pred))\n",
    "print('Root Mean Squared Error:', np.sqrt(metrics.mean_squared_error(y_test, pred)))"
   ]
  },
  {
   "cell_type": "markdown",
   "metadata": {},
   "source": [
    "### XGBoost "
   ]
  },
  {
   "cell_type": "code",
   "execution_count": 439,
   "metadata": {},
   "outputs": [],
   "source": [
    "import xgboost as xgb\n",
    "\n",
    "\n",
    "param_grid_XG = {\n",
    "    'objective': ['reg:squarederror'],\n",
    "    'colsample_by_tree': [0.3, 0.4, 0.5, 0.6, 0.7],\n",
    "    'learning_rate': [0.001, 0.01, 0.1, 0.25, 0.5, 0.75, 1],\n",
    "    'max_depth': [3, 4, 5, 6, 7, 10, 15],\n",
    "    'alpha': [1, 2, 3, 5, 7, 10],\n",
    "    'n_estimators': [5, 10, 15, 20, 30, 50]\n",
    "}\n",
    "xg_reg_op = xgb.XGBRegressor()"
   ]
  },
  {
   "cell_type": "code",
   "execution_count": 442,
   "metadata": {},
   "outputs": [],
   "source": [
    "grid_XG = GridSearchCV(estimator=xg_reg_op, param_grid=param_grid_XG, scoring='r2', cv=5, verbose=1, n_jobs=-1)"
   ]
  },
  {
   "cell_type": "code",
   "execution_count": 453,
   "metadata": {},
   "outputs": [
    {
     "name": "stdout",
     "output_type": "stream",
     "text": [
      "Fitting 5 folds for each of 8820 candidates, totalling 44100 fits\n"
     ]
    },
    {
     "name": "stderr",
     "output_type": "stream",
     "text": [
      "[Parallel(n_jobs=-1)]: Using backend LokyBackend with 8 concurrent workers.\n",
      "[Parallel(n_jobs=-1)]: Done  34 tasks      | elapsed:    6.1s\n",
      "[Parallel(n_jobs=-1)]: Done 184 tasks      | elapsed:  1.2min\n",
      "[Parallel(n_jobs=-1)]: Done 434 tasks      | elapsed:  3.5min\n",
      "[Parallel(n_jobs=-1)]: Done 784 tasks      | elapsed:  6.2min\n",
      "[Parallel(n_jobs=-1)]: Done 1234 tasks      | elapsed: 10.0min\n",
      "[Parallel(n_jobs=-1)]: Done 1784 tasks      | elapsed: 14.6min\n",
      "[Parallel(n_jobs=-1)]: Done 2434 tasks      | elapsed: 20.1min\n",
      "[Parallel(n_jobs=-1)]: Done 3184 tasks      | elapsed: 26.8min\n",
      "[Parallel(n_jobs=-1)]: Done 4034 tasks      | elapsed: 33.9min\n",
      "[Parallel(n_jobs=-1)]: Done 4984 tasks      | elapsed: 41.8min\n",
      "[Parallel(n_jobs=-1)]: Done 6034 tasks      | elapsed: 50.8min\n",
      "[Parallel(n_jobs=-1)]: Done 7184 tasks      | elapsed: 60.8min\n",
      "[Parallel(n_jobs=-1)]: Done 8434 tasks      | elapsed: 71.7min\n",
      "[Parallel(n_jobs=-1)]: Done 9784 tasks      | elapsed: 82.9min\n",
      "[Parallel(n_jobs=-1)]: Done 11234 tasks      | elapsed: 96.1min\n",
      "[Parallel(n_jobs=-1)]: Done 12784 tasks      | elapsed: 109.3min\n",
      "[Parallel(n_jobs=-1)]: Done 14434 tasks      | elapsed: 127.5min\n",
      "[Parallel(n_jobs=-1)]: Done 16184 tasks      | elapsed: 142.6min\n",
      "[Parallel(n_jobs=-1)]: Done 18034 tasks      | elapsed: 157.9min\n",
      "[Parallel(n_jobs=-1)]: Done 19984 tasks      | elapsed: 174.4min\n",
      "[Parallel(n_jobs=-1)]: Done 22034 tasks      | elapsed: 191.5min\n",
      "[Parallel(n_jobs=-1)]: Done 24184 tasks      | elapsed: 210.3min\n",
      "[Parallel(n_jobs=-1)]: Done 26434 tasks      | elapsed: 229.1min\n",
      "[Parallel(n_jobs=-1)]: Done 28784 tasks      | elapsed: 249.3min\n",
      "[Parallel(n_jobs=-1)]: Done 31234 tasks      | elapsed: 269.7min\n",
      "[Parallel(n_jobs=-1)]: Done 33784 tasks      | elapsed: 291.3min\n",
      "[Parallel(n_jobs=-1)]: Done 36434 tasks      | elapsed: 313.6min\n",
      "[Parallel(n_jobs=-1)]: Done 39184 tasks      | elapsed: 336.7min\n",
      "[Parallel(n_jobs=-1)]: Done 42034 tasks      | elapsed: 361.0min\n",
      "[Parallel(n_jobs=-1)]: Done 44100 out of 44100 | elapsed: 378.6min finished\n"
     ]
    },
    {
     "name": "stdout",
     "output_type": "stream",
     "text": [
      "[05:17:13] WARNING: ../src/learner.cc:541: \n",
      "Parameters: { colsample_by_tree } might not be used.\n",
      "\n",
      "  This may not be accurate due to some parameters are only used in language bindings but\n",
      "  passed down to XGBoost core.  Or some parameters are not used but slip through this\n",
      "  verification. Please open an issue if you find above cases.\n",
      "\n",
      "\n"
     ]
    },
    {
     "data": {
      "text/plain": [
       "GridSearchCV(cv=5,\n",
       "             estimator=XGBRegressor(base_score=None, booster=None,\n",
       "                                    colsample_bylevel=None,\n",
       "                                    colsample_bynode=None,\n",
       "                                    colsample_bytree=None, gamma=None,\n",
       "                                    gpu_id=None, importance_type='gain',\n",
       "                                    interaction_constraints=None,\n",
       "                                    learning_rate=None, max_delta_step=None,\n",
       "                                    max_depth=None, min_child_weight=None,\n",
       "                                    missing=nan, monotone_constraints=None,\n",
       "                                    n_estimators=100, n_jobs=...\n",
       "                                    scale_pos_weight=None, subsample=None,\n",
       "                                    tree_method=None, validate_parameters=None,\n",
       "                                    verbosity=None),\n",
       "             n_jobs=-1,\n",
       "             param_grid={'alpha': [1, 2, 3, 5, 7, 10],\n",
       "                         'colsample_by_tree': [0.3, 0.4, 0.5, 0.6, 0.7],\n",
       "                         'learning_rate': [0.001, 0.01, 0.1, 0.25, 0.5, 0.75,\n",
       "                                           1],\n",
       "                         'max_depth': [3, 4, 5, 6, 7, 10, 15],\n",
       "                         'n_estimators': [5, 10, 15, 20, 30, 50],\n",
       "                         'objective': ['reg:squarederror']},\n",
       "             scoring='r2', verbose=1)"
      ]
     },
     "execution_count": 453,
     "metadata": {},
     "output_type": "execute_result"
    }
   ],
   "source": [
    "grid_XG.fit(X_train, y_train)"
   ]
  },
  {
   "cell_type": "code",
   "execution_count": 461,
   "metadata": {},
   "outputs": [],
   "source": [
    "y_pred_XG = grid_XG.predict(X_test)"
   ]
  },
  {
   "cell_type": "markdown",
   "metadata": {},
   "source": [
    "### Predict FLIGHTS_TEST SET"
   ]
  },
  {
   "cell_type": "code",
   "execution_count": 522,
   "metadata": {},
   "outputs": [],
   "source": [
    "X = pd.read_csv('flights_test_submission.csv')"
   ]
  },
  {
   "cell_type": "markdown",
   "metadata": {},
   "source": [
    "### Convert to an array"
   ]
  },
  {
   "cell_type": "code",
   "execution_count": 524,
   "metadata": {},
   "outputs": [],
   "source": [
    "X = np.array(X)"
   ]
  },
  {
   "cell_type": "code",
   "execution_count": 525,
   "metadata": {},
   "outputs": [],
   "source": [
    "pred_XG_final = grid_XG.predict(X)"
   ]
  },
  {
   "cell_type": "code",
   "execution_count": 537,
   "metadata": {},
   "outputs": [],
   "source": [
    "pred_Final = list(pred_XG_final)"
   ]
  },
  {
   "cell_type": "code",
   "execution_count": null,
   "metadata": {},
   "outputs": [],
   "source": []
  },
  {
   "cell_type": "code",
   "execution_count": 532,
   "metadata": {},
   "outputs": [],
   "source": [
    "X_final = pd.read_csv('flights_test_data.csv')"
   ]
  },
  {
   "cell_type": "code",
   "execution_count": 533,
   "metadata": {},
   "outputs": [
    {
     "data": {
      "text/plain": [
       "Index(['fl_date', 'mkt_unique_carrier', 'branded_code_share', 'mkt_carrier',\n",
       "       'mkt_carrier_fl_num', 'op_unique_carrier', 'tail_num',\n",
       "       'op_carrier_fl_num', 'origin_airport_id', 'origin', 'origin_city_name',\n",
       "       'dest_airport_id', 'dest', 'dest_city_name', 'crs_dep_time',\n",
       "       'crs_arr_time', 'dup', 'crs_elapsed_time', 'flights', 'distance',\n",
       "       'avg_carrier_delays', 'avg_weather_delays', 'avg_nas_delays',\n",
       "       'avg_security_delays', 'avg_late_aircraft_delays', 'avg_dep_delays',\n",
       "       'temp', 'wind_speed', 'weather_desc', 'day_of_week'],\n",
       "      dtype='object')"
      ]
     },
     "execution_count": 533,
     "metadata": {},
     "output_type": "execute_result"
    }
   ],
   "source": [
    "X_final.columns"
   ]
  },
  {
   "cell_type": "code",
   "execution_count": 535,
   "metadata": {},
   "outputs": [],
   "source": [
    "X_final.drop(['avg_carrier_delays', 'avg_weather_delays', 'avg_nas_delays',\n",
    "       'avg_security_delays', 'avg_late_aircraft_delays', 'avg_dep_delays',\n",
    "       'temp', 'wind_speed', 'weather_desc', 'day_of_week'], axis = 1, inplace=True)"
   ]
  },
  {
   "cell_type": "code",
   "execution_count": 548,
   "metadata": {},
   "outputs": [],
   "source": [
    "X_final['predictions'] = pd.Series(pred_Final, index=X_final.index)"
   ]
  },
  {
   "cell_type": "code",
   "execution_count": 550,
   "metadata": {},
   "outputs": [],
   "source": [
    "X_final.to_csv('final_predictions.csv', index=False)"
   ]
  },
  {
   "cell_type": "code",
   "execution_count": 468,
   "metadata": {},
   "outputs": [
    {
     "name": "stdout",
     "output_type": "stream",
     "text": [
      "0.2752239695954344\n",
      "Mean Absolute Error: 17.14818238312125\n",
      "Mean Squared Error: 1653.5668575914492\n",
      "Root Mean Squared Error: 40.66407330299621\n"
     ]
    }
   ],
   "source": [
    "\n",
    "print(r2_score(y_test, y_pred_XG))\n",
    "\n",
    "\n",
    "print('Mean Absolute Error:', metrics.mean_absolute_error(y_test, y_pred_XG))\n",
    "print('Mean Squared Error:', metrics.mean_squared_error(y_test, y_pred_XG))\n",
    "print('Root Mean Squared Error:', np.sqrt(metrics.mean_squared_error(y_test, y_pred_XG)))"
   ]
  },
  {
   "cell_type": "markdown",
   "metadata": {},
   "source": [
    "### Linear Regression"
   ]
  },
  {
   "cell_type": "code",
   "execution_count": 467,
   "metadata": {},
   "outputs": [
    {
     "name": "stdout",
     "output_type": "stream",
     "text": [
      "-4.67954824386383e+17\n",
      "Mean Absolute Error: 23395824527.798347\n",
      "Mean Squared Error: 1.0676326975430221e+21\n",
      "Root Mean Squared Error: 32674649157.152737\n"
     ]
    }
   ],
   "source": [
    "from sklearn.linear_model import LinearRegression\n",
    "\n",
    "scaler = StandardScaler()\n",
    "model = LinearRegression().fit(X_train, y_train)\n",
    "y_pred_L = model.predict(X_test)\n",
    "\n",
    "print(r2_score(y_test, y_pred_L))\n",
    "\n",
    "print('Mean Absolute Error:', metrics.mean_absolute_error(y_test, y_pred_L))\n",
    "print('Mean Squared Error:', metrics.mean_squared_error(y_test, y_pred_L))\n",
    "print('Root Mean Squared Error:', np.sqrt(metrics.mean_squared_error(y_test, y_pred_L)))"
   ]
  },
  {
   "cell_type": "markdown",
   "metadata": {},
   "source": [
    "### Compilation of different results"
   ]
  },
  {
   "cell_type": "code",
   "execution_count": 510,
   "metadata": {},
   "outputs": [],
   "source": [
    "MSE_dict = {'Models': ['Logistic Regression', 'Random Forest', 'XGBoost'],\n",
    "            'MSE':[2108, 2163, 1654]}"
   ]
  },
  {
   "cell_type": "code",
   "execution_count": 515,
   "metadata": {},
   "outputs": [],
   "source": [
    "RMSE_dict = {'models': ['Logistic Regression', 'Random Forest', 'XGBoost'],\n",
    "    'RMSE':[46, 47, 41]}"
   ]
  },
  {
   "cell_type": "code",
   "execution_count": 511,
   "metadata": {},
   "outputs": [],
   "source": [
    "MSE_df = pd.DataFrame(MSE_dict)"
   ]
  },
  {
   "cell_type": "code",
   "execution_count": 512,
   "metadata": {},
   "outputs": [
    {
     "data": {
      "text/html": [
       "<div>\n",
       "<style scoped>\n",
       "    .dataframe tbody tr th:only-of-type {\n",
       "        vertical-align: middle;\n",
       "    }\n",
       "\n",
       "    .dataframe tbody tr th {\n",
       "        vertical-align: top;\n",
       "    }\n",
       "\n",
       "    .dataframe thead th {\n",
       "        text-align: right;\n",
       "    }\n",
       "</style>\n",
       "<table border=\"1\" class=\"dataframe\">\n",
       "  <thead>\n",
       "    <tr style=\"text-align: right;\">\n",
       "      <th></th>\n",
       "      <th>Models</th>\n",
       "      <th>MSE</th>\n",
       "    </tr>\n",
       "  </thead>\n",
       "  <tbody>\n",
       "    <tr>\n",
       "      <th>0</th>\n",
       "      <td>Logistic Regression</td>\n",
       "      <td>2108</td>\n",
       "    </tr>\n",
       "    <tr>\n",
       "      <th>1</th>\n",
       "      <td>Random Forest</td>\n",
       "      <td>2163</td>\n",
       "    </tr>\n",
       "    <tr>\n",
       "      <th>2</th>\n",
       "      <td>XGBoost</td>\n",
       "      <td>1654</td>\n",
       "    </tr>\n",
       "  </tbody>\n",
       "</table>\n",
       "</div>"
      ],
      "text/plain": [
       "                Models   MSE\n",
       "0  Logistic Regression  2108\n",
       "1        Random Forest  2163\n",
       "2              XGBoost  1654"
      ]
     },
     "execution_count": 512,
     "metadata": {},
     "output_type": "execute_result"
    }
   ],
   "source": [
    "MSE_df"
   ]
  },
  {
   "cell_type": "code",
   "execution_count": 516,
   "metadata": {},
   "outputs": [],
   "source": [
    "RMSE_df = pd.DataFrame(RMSE_dict)"
   ]
  },
  {
   "cell_type": "code",
   "execution_count": 517,
   "metadata": {},
   "outputs": [
    {
     "data": {
      "text/html": [
       "<div>\n",
       "<style scoped>\n",
       "    .dataframe tbody tr th:only-of-type {\n",
       "        vertical-align: middle;\n",
       "    }\n",
       "\n",
       "    .dataframe tbody tr th {\n",
       "        vertical-align: top;\n",
       "    }\n",
       "\n",
       "    .dataframe thead th {\n",
       "        text-align: right;\n",
       "    }\n",
       "</style>\n",
       "<table border=\"1\" class=\"dataframe\">\n",
       "  <thead>\n",
       "    <tr style=\"text-align: right;\">\n",
       "      <th></th>\n",
       "      <th>models</th>\n",
       "      <th>RMSE</th>\n",
       "    </tr>\n",
       "  </thead>\n",
       "  <tbody>\n",
       "    <tr>\n",
       "      <th>0</th>\n",
       "      <td>Logistic Regression</td>\n",
       "      <td>46</td>\n",
       "    </tr>\n",
       "    <tr>\n",
       "      <th>1</th>\n",
       "      <td>Random Forest</td>\n",
       "      <td>47</td>\n",
       "    </tr>\n",
       "    <tr>\n",
       "      <th>2</th>\n",
       "      <td>XGBoost</td>\n",
       "      <td>41</td>\n",
       "    </tr>\n",
       "  </tbody>\n",
       "</table>\n",
       "</div>"
      ],
      "text/plain": [
       "                models  RMSE\n",
       "0  Logistic Regression    46\n",
       "1        Random Forest    47\n",
       "2              XGBoost    41"
      ]
     },
     "execution_count": 517,
     "metadata": {},
     "output_type": "execute_result"
    }
   ],
   "source": [
    "RMSE_df"
   ]
  },
  {
   "cell_type": "code",
   "execution_count": null,
   "metadata": {},
   "outputs": [],
   "source": []
  }
 ],
 "metadata": {
  "kernelspec": {
   "display_name": "Python 3",
   "language": "python",
   "name": "python3"
  },
  "language_info": {
   "codemirror_mode": {
    "name": "ipython",
    "version": 3
   },
   "file_extension": ".py",
   "mimetype": "text/x-python",
   "name": "python",
   "nbconvert_exporter": "python",
   "pygments_lexer": "ipython3",
   "version": "3.8.5"
  }
 },
 "nbformat": 4,
 "nbformat_minor": 4
}
